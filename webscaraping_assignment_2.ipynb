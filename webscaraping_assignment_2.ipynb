{
 "cells": [
  {
   "cell_type": "markdown",
   "id": "2a351927",
   "metadata": {},
   "source": [
    "#Q1: Write a python program to scrape data for “Data Analyst” Job position in “Bangalore” location. You have to scrape the job-title, job-location, company_name, experience_required. You have to scrape first 10 jobs data. This task will be done in following steps: \n",
    "1. First get the webpage https://www.naukri.com/ \n",
    "2. Enter “Data Analyst” in “Skill, Designations, Companies” field and enter “Bangalore” in “enter the location” field.\n",
    "3. Then click the search button. \n",
    "4. Then scrape the data for the first 10 jobs results you get. \n",
    "5. Finally create a dataframe of the scraped data.\n",
    "Note: All of the above steps have to be done in code. No step is to be done manually."
   ]
  },
  {
   "cell_type": "code",
   "execution_count": 418,
   "id": "2cbd0d82",
   "metadata": {},
   "outputs": [],
   "source": [
    "import selenium\n",
    "from selenium import webdriver\n",
    "import pandas as pd\n",
    "import warnings\n",
    "warnings.filterwarnings(\"ignore\")"
   ]
  },
  {
   "cell_type": "code",
   "execution_count": null,
   "id": "d56f190d",
   "metadata": {},
   "outputs": [],
   "source": [
    "driver =webdriver.Chrome(r'C:\\Users\\Soumyajit\\Desktop\\chromedriver.exe')"
   ]
  },
  {
   "cell_type": "code",
   "execution_count": 79,
   "id": "f9184dec",
   "metadata": {},
   "outputs": [],
   "source": [
    "url='https://www.naukri.com/'\n",
    "driver.get(url)"
   ]
  },
  {
   "cell_type": "code",
   "execution_count": 80,
   "id": "b2d34842",
   "metadata": {},
   "outputs": [
    {
     "data": {
      "text/plain": [
       "<selenium.webdriver.remote.webelement.WebElement (session=\"e6cb26caa068bdf91aec12aada9c4d3a\", element=\"41ab0b00-11e9-4e65-99c5-23ef7eb58c8e\")>"
      ]
     },
     "execution_count": 80,
     "metadata": {},
     "output_type": "execute_result"
    }
   ],
   "source": [
    "#find web eleement for search job bar using class mame \n",
    "search_job=driver.find_element_by_class_name('suggestor-input')\n",
    "search_job"
   ]
  },
  {
   "cell_type": "code",
   "execution_count": 81,
   "id": "e6de5b32",
   "metadata": {},
   "outputs": [],
   "source": [
    "#finding element for job search bar\n",
    "search_job.send_keys('Data Scientist')"
   ]
  },
  {
   "cell_type": "code",
   "execution_count": 82,
   "id": "0368671b",
   "metadata": {},
   "outputs": [
    {
     "data": {
      "text/plain": [
       "<selenium.webdriver.remote.webelement.WebElement (session=\"e6cb26caa068bdf91aec12aada9c4d3a\", element=\"f74f2fba-4bec-4eda-80ed-583719a33181\")>"
      ]
     },
     "execution_count": 82,
     "metadata": {},
     "output_type": "execute_result"
    }
   ],
   "source": [
    "#finding web element for search icon bar using absolute xpath\n",
    "search_icon=driver.find_element_by_xpath('/html/body/div/div[2]/div[3]/div/div/div[3]/div/div/div/input')\n",
    "search_icon"
   ]
  },
  {
   "cell_type": "code",
   "execution_count": 83,
   "id": "8ad52e71",
   "metadata": {},
   "outputs": [
    {
     "data": {
      "text/plain": [
       "<selenium.webdriver.remote.webelement.WebElement (session=\"e6cb26caa068bdf91aec12aada9c4d3a\", element=\"f74f2fba-4bec-4eda-80ed-583719a33181\")>"
      ]
     },
     "execution_count": 83,
     "metadata": {},
     "output_type": "execute_result"
    }
   ],
   "source": [
    "#finding element for job search bar\n",
    "search_icon.send_keys('Banglore')\n",
    "search_icon"
   ]
  },
  {
   "cell_type": "code",
   "execution_count": 84,
   "id": "f5ceab62",
   "metadata": {},
   "outputs": [
    {
     "data": {
      "text/plain": [
       "<selenium.webdriver.remote.webelement.WebElement (session=\"e6cb26caa068bdf91aec12aada9c4d3a\", element=\"c40041f7-2e69-4f0e-9080-9d4e7ec9ccde\")>"
      ]
     },
     "execution_count": 84,
     "metadata": {},
     "output_type": "execute_result"
    }
   ],
   "source": [
    "#clicking using class name function\n",
    "search_btn=driver.find_element_by_class_name('qsbSubmit')\n",
    "search_btn"
   ]
  },
  {
   "cell_type": "code",
   "execution_count": 85,
   "id": "acc488c1",
   "metadata": {},
   "outputs": [],
   "source": [
    "search_btn.click()"
   ]
  },
  {
   "cell_type": "markdown",
   "id": "e743cd16",
   "metadata": {},
   "source": [
    "# Extracting job title:-"
   ]
  },
  {
   "cell_type": "code",
   "execution_count": 101,
   "id": "db4aef70",
   "metadata": {},
   "outputs": [
    {
     "data": {
      "text/plain": [
       "20"
      ]
     },
     "execution_count": 101,
     "metadata": {},
     "output_type": "execute_result"
    }
   ],
   "source": [
    "#extracting element using relative xpath\n",
    "job_tag=driver.find_elements_by_xpath('//a[@class=\"title fw500 ellipsis\"]')\n",
    "len(job_tag)"
   ]
  },
  {
   "cell_type": "code",
   "execution_count": 102,
   "id": "5e4e6d55",
   "metadata": {},
   "outputs": [
    {
     "data": {
      "text/plain": [
       "['Senior Data Scientist',\n",
       " 'Global Tax Automation & Operations - Data Scientist Senior Analyst',\n",
       " 'Analyst / Data Scientist',\n",
       " 'Opportunity For Data Scientist Internship - Bengaluru',\n",
       " 'Data Scientist: Advanced Analytics',\n",
       " 'Data Scientist: Advanced Analytics',\n",
       " 'Data Scientist: Advanced Analytics',\n",
       " 'Data Scientist: Artificial Intelligence',\n",
       " 'Senior Data Scientist',\n",
       " 'Senior Data Scientist (Fintech)']"
      ]
     },
     "execution_count": 102,
     "metadata": {},
     "output_type": "execute_result"
    }
   ],
   "source": [
    "job=[]\n",
    "for i in job_tag:\n",
    "    job.append(i.text)\n",
    "job_title=job[:10]\n",
    "job_title"
   ]
  },
  {
   "cell_type": "markdown",
   "id": "1a70888f",
   "metadata": {},
   "source": [
    "# Extracting job location:-"
   ]
  },
  {
   "cell_type": "code",
   "execution_count": 105,
   "id": "bc035930",
   "metadata": {},
   "outputs": [
    {
     "data": {
      "text/plain": [
       "20"
      ]
     },
     "execution_count": 105,
     "metadata": {},
     "output_type": "execute_result"
    }
   ],
   "source": [
    "#extracting element using relative xpath\n",
    "loc=driver.find_elements_by_xpath('//li[@class=\"fleft grey-text br2 placeHolderLi location\"]')\n",
    "len(loc)"
   ]
  },
  {
   "cell_type": "code",
   "execution_count": 106,
   "id": "19bdb0b3",
   "metadata": {},
   "outputs": [
    {
     "data": {
      "text/plain": [
       "['Chennai, Bangalore/Bengaluru',\n",
       " 'Bangalore/Bengaluru',\n",
       " 'Bangalore/Bengaluru',\n",
       " 'Indore, Bangalore/Bengaluru\\n(WFH during Covid)',\n",
       " 'Bangalore/Bengaluru',\n",
       " 'Bangalore/Bengaluru',\n",
       " 'Bangalore/Bengaluru',\n",
       " 'Bangalore/Bengaluru',\n",
       " 'Bangalore/Bengaluru',\n",
       " 'Bangalore/Bengaluru']"
      ]
     },
     "execution_count": 106,
     "metadata": {},
     "output_type": "execute_result"
    }
   ],
   "source": [
    "loca=[]\n",
    "for i in loc:\n",
    "    loca.append(i.text)\n",
    "location=loca[:10]\n",
    "location"
   ]
  },
  {
   "cell_type": "markdown",
   "id": "50b37e77",
   "metadata": {},
   "source": [
    "# Extraction compny name:-"
   ]
  },
  {
   "cell_type": "code",
   "execution_count": 110,
   "id": "caaf3fb4",
   "metadata": {},
   "outputs": [
    {
     "data": {
      "text/plain": [
       "20"
      ]
     },
     "execution_count": 110,
     "metadata": {},
     "output_type": "execute_result"
    }
   ],
   "source": [
    "comp_name=driver.find_elements_by_xpath('//a[@class=\"subTitle ellipsis fleft\"]')\n",
    "len(comp_name)"
   ]
  },
  {
   "cell_type": "code",
   "execution_count": 111,
   "id": "bae93214",
   "metadata": {},
   "outputs": [
    {
     "data": {
      "text/plain": [
       "['Shell',\n",
       " 'Dell',\n",
       " 'MilliporeSigma',\n",
       " 'Corner Stone Solutions',\n",
       " 'IBM',\n",
       " 'IBM',\n",
       " 'IBM',\n",
       " 'IBM',\n",
       " 'Siemens',\n",
       " 'NIRA']"
      ]
     },
     "execution_count": 111,
     "metadata": {},
     "output_type": "execute_result"
    }
   ],
   "source": [
    "comp=[]\n",
    "for i in comp_name:\n",
    "    comp.append(i.text)\n",
    "company=comp[:10]\n",
    "company"
   ]
  },
  {
   "cell_type": "markdown",
   "id": "cad599c3",
   "metadata": {},
   "source": [
    "# Extraction years of experience:-"
   ]
  },
  {
   "cell_type": "code",
   "execution_count": 114,
   "id": "6c3e5b29",
   "metadata": {},
   "outputs": [
    {
     "data": {
      "text/plain": [
       "20"
      ]
     },
     "execution_count": 114,
     "metadata": {},
     "output_type": "execute_result"
    }
   ],
   "source": [
    "#lets extract all the web elements using contains\n",
    "exp_tags=driver.find_elements_by_xpath('//*[contains(@title,\"Yrs\")]')\n",
    "len(exp_tags)"
   ]
  },
  {
   "cell_type": "code",
   "execution_count": 116,
   "id": "a7202e70",
   "metadata": {},
   "outputs": [
    {
     "data": {
      "text/plain": [
       "['6-11 Yrs',\n",
       " '3-5 Yrs',\n",
       " '2-5 Yrs',\n",
       " '0-1 Yrs',\n",
       " '2-5 Yrs',\n",
       " '5-10 Yrs',\n",
       " '2-5 Yrs',\n",
       " '3-7 Yrs',\n",
       " '3-8 Yrs',\n",
       " '4-6 Yrs']"
      ]
     },
     "execution_count": 116,
     "metadata": {},
     "output_type": "execute_result"
    }
   ],
   "source": [
    "exp=[]\n",
    "for i in exp_tags:\n",
    "    exp.append(i.text)\n",
    "Experience=exp[:10]\n",
    "Experience"
   ]
  },
  {
   "cell_type": "code",
   "execution_count": 118,
   "id": "c9e102cb",
   "metadata": {},
   "outputs": [],
   "source": [
    "data=pd.DataFrame()"
   ]
  },
  {
   "cell_type": "code",
   "execution_count": 119,
   "id": "9699b5d2",
   "metadata": {},
   "outputs": [
    {
     "data": {
      "text/html": [
       "<div>\n",
       "<style scoped>\n",
       "    .dataframe tbody tr th:only-of-type {\n",
       "        vertical-align: middle;\n",
       "    }\n",
       "\n",
       "    .dataframe tbody tr th {\n",
       "        vertical-align: top;\n",
       "    }\n",
       "\n",
       "    .dataframe thead th {\n",
       "        text-align: right;\n",
       "    }\n",
       "</style>\n",
       "<table border=\"1\" class=\"dataframe\">\n",
       "  <thead>\n",
       "    <tr style=\"text-align: right;\">\n",
       "      <th></th>\n",
       "      <th>JOB_TITLE</th>\n",
       "      <th>JOB_LOCATION</th>\n",
       "      <th>COMPANY_NAME</th>\n",
       "      <th>EXPERIENCE</th>\n",
       "    </tr>\n",
       "  </thead>\n",
       "  <tbody>\n",
       "    <tr>\n",
       "      <th>0</th>\n",
       "      <td>Senior Data Scientist</td>\n",
       "      <td>Chennai, Bangalore/Bengaluru</td>\n",
       "      <td>Shell</td>\n",
       "      <td>6-11 Yrs</td>\n",
       "    </tr>\n",
       "    <tr>\n",
       "      <th>1</th>\n",
       "      <td>Global Tax Automation &amp; Operations - Data Scie...</td>\n",
       "      <td>Bangalore/Bengaluru</td>\n",
       "      <td>Dell</td>\n",
       "      <td>3-5 Yrs</td>\n",
       "    </tr>\n",
       "    <tr>\n",
       "      <th>2</th>\n",
       "      <td>Analyst / Data Scientist</td>\n",
       "      <td>Bangalore/Bengaluru</td>\n",
       "      <td>MilliporeSigma</td>\n",
       "      <td>2-5 Yrs</td>\n",
       "    </tr>\n",
       "    <tr>\n",
       "      <th>3</th>\n",
       "      <td>Opportunity For Data Scientist Internship - Be...</td>\n",
       "      <td>Indore, Bangalore/Bengaluru\\n(WFH during Covid)</td>\n",
       "      <td>Corner Stone Solutions</td>\n",
       "      <td>0-1 Yrs</td>\n",
       "    </tr>\n",
       "    <tr>\n",
       "      <th>4</th>\n",
       "      <td>Data Scientist: Advanced Analytics</td>\n",
       "      <td>Bangalore/Bengaluru</td>\n",
       "      <td>IBM</td>\n",
       "      <td>2-5 Yrs</td>\n",
       "    </tr>\n",
       "    <tr>\n",
       "      <th>5</th>\n",
       "      <td>Data Scientist: Advanced Analytics</td>\n",
       "      <td>Bangalore/Bengaluru</td>\n",
       "      <td>IBM</td>\n",
       "      <td>5-10 Yrs</td>\n",
       "    </tr>\n",
       "    <tr>\n",
       "      <th>6</th>\n",
       "      <td>Data Scientist: Advanced Analytics</td>\n",
       "      <td>Bangalore/Bengaluru</td>\n",
       "      <td>IBM</td>\n",
       "      <td>2-5 Yrs</td>\n",
       "    </tr>\n",
       "    <tr>\n",
       "      <th>7</th>\n",
       "      <td>Data Scientist: Artificial Intelligence</td>\n",
       "      <td>Bangalore/Bengaluru</td>\n",
       "      <td>IBM</td>\n",
       "      <td>3-7 Yrs</td>\n",
       "    </tr>\n",
       "    <tr>\n",
       "      <th>8</th>\n",
       "      <td>Senior Data Scientist</td>\n",
       "      <td>Bangalore/Bengaluru</td>\n",
       "      <td>Siemens</td>\n",
       "      <td>3-8 Yrs</td>\n",
       "    </tr>\n",
       "    <tr>\n",
       "      <th>9</th>\n",
       "      <td>Senior Data Scientist (Fintech)</td>\n",
       "      <td>Bangalore/Bengaluru</td>\n",
       "      <td>NIRA</td>\n",
       "      <td>4-6 Yrs</td>\n",
       "    </tr>\n",
       "  </tbody>\n",
       "</table>\n",
       "</div>"
      ],
      "text/plain": [
       "                                           JOB_TITLE  \\\n",
       "0                              Senior Data Scientist   \n",
       "1  Global Tax Automation & Operations - Data Scie...   \n",
       "2                           Analyst / Data Scientist   \n",
       "3  Opportunity For Data Scientist Internship - Be...   \n",
       "4                 Data Scientist: Advanced Analytics   \n",
       "5                 Data Scientist: Advanced Analytics   \n",
       "6                 Data Scientist: Advanced Analytics   \n",
       "7            Data Scientist: Artificial Intelligence   \n",
       "8                              Senior Data Scientist   \n",
       "9                    Senior Data Scientist (Fintech)   \n",
       "\n",
       "                                      JOB_LOCATION            COMPANY_NAME  \\\n",
       "0                     Chennai, Bangalore/Bengaluru                   Shell   \n",
       "1                              Bangalore/Bengaluru                    Dell   \n",
       "2                              Bangalore/Bengaluru          MilliporeSigma   \n",
       "3  Indore, Bangalore/Bengaluru\\n(WFH during Covid)  Corner Stone Solutions   \n",
       "4                              Bangalore/Bengaluru                     IBM   \n",
       "5                              Bangalore/Bengaluru                     IBM   \n",
       "6                              Bangalore/Bengaluru                     IBM   \n",
       "7                              Bangalore/Bengaluru                     IBM   \n",
       "8                              Bangalore/Bengaluru                 Siemens   \n",
       "9                              Bangalore/Bengaluru                    NIRA   \n",
       "\n",
       "  EXPERIENCE  \n",
       "0   6-11 Yrs  \n",
       "1    3-5 Yrs  \n",
       "2    2-5 Yrs  \n",
       "3    0-1 Yrs  \n",
       "4    2-5 Yrs  \n",
       "5   5-10 Yrs  \n",
       "6    2-5 Yrs  \n",
       "7    3-7 Yrs  \n",
       "8    3-8 Yrs  \n",
       "9    4-6 Yrs  "
      ]
     },
     "execution_count": 119,
     "metadata": {},
     "output_type": "execute_result"
    }
   ],
   "source": [
    "data['JOB_TITLE']=job_title\n",
    "data['JOB_LOCATION']= location\n",
    "data['COMPANY_NAME']=company\n",
    "data['EXPERIENCE']=Experience\n",
    "data"
   ]
  },
  {
   "cell_type": "markdown",
   "id": "afbde84f",
   "metadata": {},
   "source": [
    " Q2: Write a python program to scrape data for “Data Scientist” Job position in “Bangalore” location. You have to scrape the job-title, job-location, company_name. You have to scrape first 10 jobs data. This task will be done in following steps: \n",
    "1. First get the webpage https://www.naukri.com/ \n",
    "2. Enter “Data Scientist” in “Skill, Designations, Companies” field and enter “Bangalore” in “enter the location” field.\n",
    "3. Then click the search button. \n",
    "4. Then scrape the data for the first 10 jobs results you get. \n",
    "5. Finally create a dataframe of the scraped data."
   ]
  },
  {
   "cell_type": "code",
   "execution_count": 474,
   "id": "280cad5b",
   "metadata": {},
   "outputs": [],
   "source": [
    "driver=webdriver.Chrome(r'C:\\Users\\Soumyajit\\Desktop\\chromedriver.exe')"
   ]
  },
  {
   "cell_type": "code",
   "execution_count": 475,
   "id": "536cac46",
   "metadata": {},
   "outputs": [],
   "source": [
    "url='https://www.naukri.com/'\n",
    "driver.get(url)"
   ]
  },
  {
   "cell_type": "code",
   "execution_count": 476,
   "id": "2e3b6968",
   "metadata": {},
   "outputs": [],
   "source": [
    "skill=driver.find_element_by_xpath('//*[@id=\"root\"]/div[2]/div[3]/div/div/div[1]/div/div/div/input') \n",
    "skill.click()\n",
    "skill.send_keys('Data Scientist')# Enter Data Scientist in “Skill, Designations, Companies"
   ]
  },
  {
   "cell_type": "code",
   "execution_count": 477,
   "id": "d300bf1a",
   "metadata": {},
   "outputs": [],
   "source": [
    "loc=driver.find_element_by_xpath('//*[@id=\"root\"]/div[2]/div[3]/div/div/div[3]/div/div/div/input')\n",
    "loc.click()\n",
    "loc.send_keys('Bangalore')           # Enter Bangalore in location"
   ]
  },
  {
   "cell_type": "code",
   "execution_count": 478,
   "id": "d2cac221",
   "metadata": {},
   "outputs": [],
   "source": [
    "search_btn=driver.find_element_by_xpath('/html/body/div/div[2]/div[3]/div/div/div[6]')\n",
    "search_btn.click()  #click "
   ]
  },
  {
   "cell_type": "code",
   "execution_count": 479,
   "id": "4a2b5379",
   "metadata": {},
   "outputs": [],
   "source": [
    "#scraping data for job title, compnay, location \n",
    "title=[]\n",
    "company=[]\n",
    "location=[]\n",
    "o1=o2=o3=0\n",
    "tag1=driver.find_elements_by_xpath('//a[@class=\"title fw500 ellipsis\"]')\n",
    "for i in tag1:\n",
    "    if (o1<10):\n",
    "        title.append(i.text)\n",
    "        o+=1\n",
    "    else:\n",
    "        break\n",
    "tag2=driver.find_elements_by_xpath('//a[@class=\"subTitle ellipsis fleft\"]')\n",
    "for i in tag2:\n",
    "    if(o2<10):\n",
    "        company.append(i.text)\n",
    "        o2+=1\n",
    "    else:\n",
    "        break\n",
    "tag3=driver.find_elements_by_xpath('//li[@class=\"fleft grey-text br2 placeHolderLi location\"]')\n",
    "for i in tag3:\n",
    "    if (o3<10):\n",
    "        location.append(i.text.replace('Bangalore',' ').replace('/',''))\n",
    "        o3+=1\n",
    "    else:\n",
    "        break"
   ]
  },
  {
   "cell_type": "code",
   "execution_count": 482,
   "id": "a0873ba8",
   "metadata": {},
   "outputs": [
    {
     "data": {
      "text/plain": [
       "['Global Tax Automation & Operations - Data Scientist Senior Analyst',\n",
       " 'Lead Data Scientist',\n",
       " 'Associate Professional - Data Scientist / Analytics',\n",
       " 'Sr Data Scientist',\n",
       " 'Sr Data Scientist',\n",
       " 'Sr Data Scientist',\n",
       " 'Sr. Data Scientist',\n",
       " 'Sr. Data Scientist',\n",
       " 'Senior Data Scientist',\n",
       " 'Senior Data Scientist (Video Analytics)']"
      ]
     },
     "execution_count": 482,
     "metadata": {},
     "output_type": "execute_result"
    }
   ],
   "source": [
    "title=title[:10]\n",
    "title"
   ]
  },
  {
   "cell_type": "code",
   "execution_count": 457,
   "id": "6a0fbc92",
   "metadata": {},
   "outputs": [
    {
     "data": {
      "text/plain": [
       "['Bangalore/Bengaluru',\n",
       " 'Bangalore/Bengaluru',\n",
       " 'Bangalore/Bengaluru',\n",
       " 'Bangalore/Bengaluru',\n",
       " 'Bangalore/Bengaluru',\n",
       " 'Bangalore/Bengaluru',\n",
       " 'Bangalore/Bengaluru',\n",
       " 'Bangalore/Bengaluru',\n",
       " 'Bangalore/Bengaluru',\n",
       " 'Bangalore/Bengaluru']"
      ]
     },
     "execution_count": 457,
     "metadata": {},
     "output_type": "execute_result"
    }
   ],
   "source": [
    "location"
   ]
  },
  {
   "cell_type": "code",
   "execution_count": 483,
   "id": "f6f30051",
   "metadata": {},
   "outputs": [
    {
     "data": {
      "text/html": [
       "<div>\n",
       "<style scoped>\n",
       "    .dataframe tbody tr th:only-of-type {\n",
       "        vertical-align: middle;\n",
       "    }\n",
       "\n",
       "    .dataframe tbody tr th {\n",
       "        vertical-align: top;\n",
       "    }\n",
       "\n",
       "    .dataframe thead th {\n",
       "        text-align: right;\n",
       "    }\n",
       "</style>\n",
       "<table border=\"1\" class=\"dataframe\">\n",
       "  <thead>\n",
       "    <tr style=\"text-align: right;\">\n",
       "      <th></th>\n",
       "      <th>JOB_TITLE</th>\n",
       "      <th>COMPANY</th>\n",
       "      <th>LOCATION</th>\n",
       "    </tr>\n",
       "  </thead>\n",
       "  <tbody>\n",
       "    <tr>\n",
       "      <th>0</th>\n",
       "      <td>Global Tax Automation &amp; Operations - Data Scie...</td>\n",
       "      <td>Dell</td>\n",
       "      <td>Bengaluru</td>\n",
       "    </tr>\n",
       "    <tr>\n",
       "      <th>1</th>\n",
       "      <td>Lead Data Scientist</td>\n",
       "      <td>Societe Generale</td>\n",
       "      <td>Bengaluru</td>\n",
       "    </tr>\n",
       "    <tr>\n",
       "      <th>2</th>\n",
       "      <td>Associate Professional - Data Scientist / Anal...</td>\n",
       "      <td>Sutherland Global Services Inc</td>\n",
       "      <td>Bengaluru</td>\n",
       "    </tr>\n",
       "    <tr>\n",
       "      <th>3</th>\n",
       "      <td>Sr Data Scientist</td>\n",
       "      <td>Neustar</td>\n",
       "      <td>Bengaluru</td>\n",
       "    </tr>\n",
       "    <tr>\n",
       "      <th>4</th>\n",
       "      <td>Sr Data Scientist</td>\n",
       "      <td>Apptio India LLP</td>\n",
       "      <td>Bengaluru</td>\n",
       "    </tr>\n",
       "    <tr>\n",
       "      <th>5</th>\n",
       "      <td>Sr Data Scientist</td>\n",
       "      <td>Neustar MarketShare</td>\n",
       "      <td>Bengaluru</td>\n",
       "    </tr>\n",
       "    <tr>\n",
       "      <th>6</th>\n",
       "      <td>Sr. Data Scientist</td>\n",
       "      <td>Kimberly-Clark Lever Limited</td>\n",
       "      <td>Bengaluru</td>\n",
       "    </tr>\n",
       "    <tr>\n",
       "      <th>7</th>\n",
       "      <td>Sr. Data Scientist</td>\n",
       "      <td>Kimberly-Clark Lever Limited</td>\n",
       "      <td>Bengaluru</td>\n",
       "    </tr>\n",
       "    <tr>\n",
       "      <th>8</th>\n",
       "      <td>Senior Data Scientist</td>\n",
       "      <td>Thomson Reuters</td>\n",
       "      <td>Bengaluru</td>\n",
       "    </tr>\n",
       "    <tr>\n",
       "      <th>9</th>\n",
       "      <td>Senior Data Scientist (Video Analytics)</td>\n",
       "      <td>Hitachi Ltd.</td>\n",
       "      <td>Bengaluru</td>\n",
       "    </tr>\n",
       "  </tbody>\n",
       "</table>\n",
       "</div>"
      ],
      "text/plain": [
       "                                           JOB_TITLE  \\\n",
       "0  Global Tax Automation & Operations - Data Scie...   \n",
       "1                                Lead Data Scientist   \n",
       "2  Associate Professional - Data Scientist / Anal...   \n",
       "3                                  Sr Data Scientist   \n",
       "4                                  Sr Data Scientist   \n",
       "5                                  Sr Data Scientist   \n",
       "6                                 Sr. Data Scientist   \n",
       "7                                 Sr. Data Scientist   \n",
       "8                              Senior Data Scientist   \n",
       "9            Senior Data Scientist (Video Analytics)   \n",
       "\n",
       "                          COMPANY    LOCATION  \n",
       "0                            Dell   Bengaluru  \n",
       "1                Societe Generale   Bengaluru  \n",
       "2  Sutherland Global Services Inc   Bengaluru  \n",
       "3                         Neustar   Bengaluru  \n",
       "4                Apptio India LLP   Bengaluru  \n",
       "5             Neustar MarketShare   Bengaluru  \n",
       "6    Kimberly-Clark Lever Limited   Bengaluru  \n",
       "7    Kimberly-Clark Lever Limited   Bengaluru  \n",
       "8                 Thomson Reuters   Bengaluru  \n",
       "9                    Hitachi Ltd.   Bengaluru  "
      ]
     },
     "execution_count": 483,
     "metadata": {},
     "output_type": "execute_result"
    }
   ],
   "source": [
    "data=pd.DataFrame({'JOB_TITLE':title ,'COMPANY':company , 'LOCATION':location}) # creating data frame\n",
    "data"
   ]
  },
  {
   "cell_type": "code",
   "execution_count": null,
   "id": "8ebfff0f",
   "metadata": {},
   "outputs": [],
   "source": []
  },
  {
   "cell_type": "markdown",
   "id": "fdb2d1de",
   "metadata": {},
   "source": [
    "# Q--3)"
   ]
  },
  {
   "cell_type": "markdown",
   "id": "32ad5148",
   "metadata": {},
   "source": [
    "You have to use the location and salary filter. You have to scrape data for “Data Scientist” designation for first 10 job results. You have to scrape the job-title, job-location, company name, experience required. The location filter to be used is “Delhi/NCR”. The salary filter to be used is “3-6” lakhs\n",
    "The task will be done as shown in the below steps: \n",
    "1. first get the webpage https://www.naukri.com/ \n",
    "2. Enter “Data Scientist” in “Skill, Designations, and Companies” field.\n",
    "3. Then click the search button. \n",
    "4. Then apply the location filter and salary filter by checking the respective boxes \n",
    "5. Then scrape the data for the first 10 jobs results you get. \n",
    "6. Finally create a dataframe of the scraped data."
   ]
  },
  {
   "cell_type": "code",
   "execution_count": 141,
   "id": "222863ca",
   "metadata": {},
   "outputs": [],
   "source": [
    "driver =webdriver.Chrome(r'C:\\Users\\Soumyajit\\Desktop\\chromedriver.exe')"
   ]
  },
  {
   "cell_type": "code",
   "execution_count": 142,
   "id": "347d491a",
   "metadata": {},
   "outputs": [],
   "source": [
    "url='https://www.naukri.com/'\n",
    "driver.get(url)"
   ]
  },
  {
   "cell_type": "code",
   "execution_count": 143,
   "id": "3d5da38b",
   "metadata": {},
   "outputs": [
    {
     "data": {
      "text/plain": [
       "<selenium.webdriver.remote.webelement.WebElement (session=\"b481b79bcd13abc0ce75a422996616d6\", element=\"7ea85a27-b25f-42ae-b227-110eb65d0562\")>"
      ]
     },
     "execution_count": 143,
     "metadata": {},
     "output_type": "execute_result"
    }
   ],
   "source": [
    "#find web eleement for search job bar using class mame \n",
    "search_job=driver.find_element_by_class_name('suggestor-input')\n",
    "search_job"
   ]
  },
  {
   "cell_type": "code",
   "execution_count": 144,
   "id": "0375338f",
   "metadata": {},
   "outputs": [],
   "source": [
    "#finding element for job search bar\n",
    "search_job.send_keys('Data Scientist')"
   ]
  },
  {
   "cell_type": "code",
   "execution_count": 145,
   "id": "76d1005e",
   "metadata": {},
   "outputs": [],
   "source": [
    "#clicking using class name function\n",
    "search_btn=driver.find_element_by_xpath('/html/body/div/div[2]/div[3]/div/div/div[6]')\n",
    "search_btn.click()"
   ]
  },
  {
   "cell_type": "code",
   "execution_count": 146,
   "id": "554c2049",
   "metadata": {},
   "outputs": [],
   "source": [
    "loc_check=driver.find_element_by_xpath('/html/body/div[1]/div[3]/div[2]/section[1]/div[2]/div[3]/div[2]/div[3]/label/i')\n",
    "loc_check.click()  #applying location filter "
   ]
  },
  {
   "cell_type": "code",
   "execution_count": 147,
   "id": "b519f231",
   "metadata": {},
   "outputs": [],
   "source": [
    "sal_check=driver.find_element_by_xpath('/html/body/div[1]/div[3]/div[2]/section[1]/div[2]/div[4]/div[2]/div[2]/label/i')\n",
    "sal_check.click() # applying salary filter"
   ]
  },
  {
   "cell_type": "markdown",
   "id": "fc9b743b",
   "metadata": {},
   "source": [
    "# Extracting Job title:"
   ]
  },
  {
   "cell_type": "code",
   "execution_count": 149,
   "id": "bbc81ed1",
   "metadata": {},
   "outputs": [
    {
     "data": {
      "text/plain": [
       "20"
      ]
     },
     "execution_count": 149,
     "metadata": {},
     "output_type": "execute_result"
    }
   ],
   "source": [
    "#extracting element using relative xpath\n",
    "job1_tag=driver.find_elements_by_xpath('//a[@class=\"title fw500 ellipsis\"]')\n",
    "len(job1_tag)"
   ]
  },
  {
   "cell_type": "code",
   "execution_count": 158,
   "id": "504b9199",
   "metadata": {},
   "outputs": [
    {
     "data": {
      "text/plain": [
       "10"
      ]
     },
     "execution_count": 158,
     "metadata": {},
     "output_type": "execute_result"
    }
   ],
   "source": [
    "job1=[]\n",
    "for i in job1_tag:\n",
    "    job1.append(i.text)\n",
    "job_title=job1[:10]\n",
    "len(job_title)"
   ]
  },
  {
   "cell_type": "markdown",
   "id": "d02995df",
   "metadata": {},
   "source": [
    "# Extracting location:"
   ]
  },
  {
   "cell_type": "code",
   "execution_count": 155,
   "id": "f25c3055",
   "metadata": {},
   "outputs": [
    {
     "data": {
      "text/plain": [
       "20"
      ]
     },
     "execution_count": 155,
     "metadata": {},
     "output_type": "execute_result"
    }
   ],
   "source": [
    "loc1_tag=driver.find_elements_by_xpath('//li[@class=\"fleft grey-text br2 placeHolderLi location\"]')\n",
    "len(loc1_tag)"
   ]
  },
  {
   "cell_type": "code",
   "execution_count": 159,
   "id": "1fa007ec",
   "metadata": {},
   "outputs": [
    {
     "data": {
      "text/plain": [
       "10"
      ]
     },
     "execution_count": 159,
     "metadata": {},
     "output_type": "execute_result"
    }
   ],
   "source": [
    "loc1=[]\n",
    "for i in loc1_tag:\n",
    "    loc1.append(i.text)\n",
    "location=loc1[:10]\n",
    "len(location)"
   ]
  },
  {
   "cell_type": "markdown",
   "id": "dcd5bd8a",
   "metadata": {},
   "source": [
    "# Extracting YOE:"
   ]
  },
  {
   "cell_type": "code",
   "execution_count": 164,
   "id": "09283feb",
   "metadata": {},
   "outputs": [
    {
     "data": {
      "text/plain": [
       "20"
      ]
     },
     "execution_count": 164,
     "metadata": {},
     "output_type": "execute_result"
    }
   ],
   "source": [
    "exp_tag1=driver.find_elements_by_xpath('//span[contains(@title,\"Yrs\")]')\n",
    "len(exp_tag1)"
   ]
  },
  {
   "cell_type": "code",
   "execution_count": 166,
   "id": "cb15c28c",
   "metadata": {},
   "outputs": [
    {
     "data": {
      "text/plain": [
       "10"
      ]
     },
     "execution_count": 166,
     "metadata": {},
     "output_type": "execute_result"
    }
   ],
   "source": [
    "exp=[]\n",
    "for i in exp_tag1:\n",
    "    exp.append(i.text)\n",
    "experience=exp[:10]\n",
    "len(experience)"
   ]
  },
  {
   "cell_type": "markdown",
   "id": "b6b23e48",
   "metadata": {},
   "source": [
    "# Extarcting company name:"
   ]
  },
  {
   "cell_type": "code",
   "execution_count": 172,
   "id": "28af8e32",
   "metadata": {},
   "outputs": [
    {
     "data": {
      "text/plain": [
       "20"
      ]
     },
     "execution_count": 172,
     "metadata": {},
     "output_type": "execute_result"
    }
   ],
   "source": [
    "comp1=driver.find_elements_by_xpath('//a[@class=\"title fw500 ellipsis\"]')\n",
    "len(comp1)"
   ]
  },
  {
   "cell_type": "code",
   "execution_count": 175,
   "id": "f2e7a316",
   "metadata": {},
   "outputs": [
    {
     "data": {
      "text/plain": [
       "10"
      ]
     },
     "execution_count": 175,
     "metadata": {},
     "output_type": "execute_result"
    }
   ],
   "source": [
    "company=[]\n",
    "for i in comp1:\n",
    "    company.append(i.text)\n",
    "company_name=comp1[:10]\n",
    "len(company_name)"
   ]
  },
  {
   "cell_type": "code",
   "execution_count": 176,
   "id": "5a1d4d35",
   "metadata": {},
   "outputs": [
    {
     "data": {
      "text/html": [
       "<div>\n",
       "<style scoped>\n",
       "    .dataframe tbody tr th:only-of-type {\n",
       "        vertical-align: middle;\n",
       "    }\n",
       "\n",
       "    .dataframe tbody tr th {\n",
       "        vertical-align: top;\n",
       "    }\n",
       "\n",
       "    .dataframe thead th {\n",
       "        text-align: right;\n",
       "    }\n",
       "</style>\n",
       "<table border=\"1\" class=\"dataframe\">\n",
       "  <thead>\n",
       "    <tr style=\"text-align: right;\">\n",
       "      <th></th>\n",
       "      <th>COMPANY_NAME</th>\n",
       "      <th>JOB_TITLE</th>\n",
       "      <th>EXPERIENCE</th>\n",
       "      <th>LOCATION</th>\n",
       "    </tr>\n",
       "  </thead>\n",
       "  <tbody>\n",
       "    <tr>\n",
       "      <th>0</th>\n",
       "      <td>&lt;selenium.webdriver.remote.webelement.WebEleme...</td>\n",
       "      <td>Data Scientist</td>\n",
       "      <td>2-5 Yrs</td>\n",
       "      <td>Hyderabad/Secunderabad, Bangalore/Bengaluru, D...</td>\n",
       "    </tr>\n",
       "    <tr>\n",
       "      <th>1</th>\n",
       "      <td>&lt;selenium.webdriver.remote.webelement.WebEleme...</td>\n",
       "      <td>Data Scientist</td>\n",
       "      <td>1-6 Yrs</td>\n",
       "      <td>Kolkata, Hyderabad/Secunderabad, Pune, Chennai...</td>\n",
       "    </tr>\n",
       "    <tr>\n",
       "      <th>2</th>\n",
       "      <td>&lt;selenium.webdriver.remote.webelement.WebEleme...</td>\n",
       "      <td>Opening For Data Scientist</td>\n",
       "      <td>1-5 Yrs</td>\n",
       "      <td>Gurgaon/Gurugram</td>\n",
       "    </tr>\n",
       "    <tr>\n",
       "      <th>3</th>\n",
       "      <td>&lt;selenium.webdriver.remote.webelement.WebEleme...</td>\n",
       "      <td>Data Scientist | A Fintech Organisation</td>\n",
       "      <td>2-7 Yrs</td>\n",
       "      <td>Gurgaon/Gurugram</td>\n",
       "    </tr>\n",
       "    <tr>\n",
       "      <th>4</th>\n",
       "      <td>&lt;selenium.webdriver.remote.webelement.WebEleme...</td>\n",
       "      <td>Data Scientist-Onsite and offshore</td>\n",
       "      <td>3-8 Yrs</td>\n",
       "      <td>Hyderabad/Secunderabad, Pune, Chennai, Bangalo...</td>\n",
       "    </tr>\n",
       "    <tr>\n",
       "      <th>5</th>\n",
       "      <td>&lt;selenium.webdriver.remote.webelement.WebEleme...</td>\n",
       "      <td>Data Scientist (freelance)</td>\n",
       "      <td>2-7 Yrs</td>\n",
       "      <td>New Delhi, Delhi</td>\n",
       "    </tr>\n",
       "    <tr>\n",
       "      <th>6</th>\n",
       "      <td>&lt;selenium.webdriver.remote.webelement.WebEleme...</td>\n",
       "      <td>Data Scientist</td>\n",
       "      <td>3-8 Yrs</td>\n",
       "      <td>New Delhi</td>\n",
       "    </tr>\n",
       "    <tr>\n",
       "      <th>7</th>\n",
       "      <td>&lt;selenium.webdriver.remote.webelement.WebEleme...</td>\n",
       "      <td>Data Scientist</td>\n",
       "      <td>1-6 Yrs</td>\n",
       "      <td>Gurgaon/Gurugram, Chennai\\n(WFH during Covid)</td>\n",
       "    </tr>\n",
       "    <tr>\n",
       "      <th>8</th>\n",
       "      <td>&lt;selenium.webdriver.remote.webelement.WebEleme...</td>\n",
       "      <td>Data &amp; Applied Scientist</td>\n",
       "      <td>3-7 Yrs</td>\n",
       "      <td>Noida, Hyderabad/Secunderabad, Bangalore/Benga...</td>\n",
       "    </tr>\n",
       "    <tr>\n",
       "      <th>9</th>\n",
       "      <td>&lt;selenium.webdriver.remote.webelement.WebEleme...</td>\n",
       "      <td>Data and applied Scientist</td>\n",
       "      <td>3-7 Yrs</td>\n",
       "      <td>Noida, Hyderabad/Secunderabad, Bangalore/Benga...</td>\n",
       "    </tr>\n",
       "  </tbody>\n",
       "</table>\n",
       "</div>"
      ],
      "text/plain": [
       "                                        COMPANY_NAME  \\\n",
       "0  <selenium.webdriver.remote.webelement.WebEleme...   \n",
       "1  <selenium.webdriver.remote.webelement.WebEleme...   \n",
       "2  <selenium.webdriver.remote.webelement.WebEleme...   \n",
       "3  <selenium.webdriver.remote.webelement.WebEleme...   \n",
       "4  <selenium.webdriver.remote.webelement.WebEleme...   \n",
       "5  <selenium.webdriver.remote.webelement.WebEleme...   \n",
       "6  <selenium.webdriver.remote.webelement.WebEleme...   \n",
       "7  <selenium.webdriver.remote.webelement.WebEleme...   \n",
       "8  <selenium.webdriver.remote.webelement.WebEleme...   \n",
       "9  <selenium.webdriver.remote.webelement.WebEleme...   \n",
       "\n",
       "                                 JOB_TITLE EXPERIENCE  \\\n",
       "0                           Data Scientist    2-5 Yrs   \n",
       "1                           Data Scientist    1-6 Yrs   \n",
       "2               Opening For Data Scientist    1-5 Yrs   \n",
       "3  Data Scientist | A Fintech Organisation    2-7 Yrs   \n",
       "4       Data Scientist-Onsite and offshore    3-8 Yrs   \n",
       "5               Data Scientist (freelance)    2-7 Yrs   \n",
       "6                           Data Scientist    3-8 Yrs   \n",
       "7                           Data Scientist    1-6 Yrs   \n",
       "8                 Data & Applied Scientist    3-7 Yrs   \n",
       "9               Data and applied Scientist    3-7 Yrs   \n",
       "\n",
       "                                            LOCATION  \n",
       "0  Hyderabad/Secunderabad, Bangalore/Bengaluru, D...  \n",
       "1  Kolkata, Hyderabad/Secunderabad, Pune, Chennai...  \n",
       "2                                   Gurgaon/Gurugram  \n",
       "3                                   Gurgaon/Gurugram  \n",
       "4  Hyderabad/Secunderabad, Pune, Chennai, Bangalo...  \n",
       "5                                   New Delhi, Delhi  \n",
       "6                                          New Delhi  \n",
       "7      Gurgaon/Gurugram, Chennai\\n(WFH during Covid)  \n",
       "8  Noida, Hyderabad/Secunderabad, Bangalore/Benga...  \n",
       "9  Noida, Hyderabad/Secunderabad, Bangalore/Benga...  "
      ]
     },
     "execution_count": 176,
     "metadata": {},
     "output_type": "execute_result"
    }
   ],
   "source": [
    "data=pd.DataFrame()\n",
    "data['COMPANY_NAME']=company_name\n",
    "data['JOB_TITLE']=job_title\n",
    "data['EXPERIENCE']=experience\n",
    "data['LOCATION']=location\n",
    "data\n",
    "\n"
   ]
  },
  {
   "cell_type": "markdown",
   "id": "268147b7",
   "metadata": {},
   "source": [
    "# Q--4)"
   ]
  },
  {
   "cell_type": "markdown",
   "id": "dd12d00a",
   "metadata": {},
   "source": [
    "In this question you have to scrape data using the filters available on the webpage as shown below:\t\n",
    "Scrape data of first 100 sunglasses listings on flipkart.com. You have to scrape four attributes: \n",
    "1. Brand 2. Product Description 3. Price\n",
    "To scrape the data you have to go through following steps: 1. Go to Flipkart webpage by url : https://www.flipkart.com/ 2. Enter “sunglasses” in the search field where “search for products, brands andmore” is written and click the search icon\n",
    "3. After that you will reach to the page having a lot of sunglasses. From this pageyou can scrap the required data as usual.\n",
    "4. After scraping data from the first page, go to the “Next” Button at the bottom ofthe page , then click on it.\n",
    "5. Now scrape data from this page as usual 6. Repeat this until you get data for 100 sunglasses."
   ]
  },
  {
   "cell_type": "code",
   "execution_count": 40,
   "id": "ad096d00",
   "metadata": {},
   "outputs": [],
   "source": [
    "#open the browser \n",
    "driver=webdriver.Chrome(r'C:\\Users\\Soumyajit\\Desktop\\chromedriver.exe')"
   ]
  },
  {
   "cell_type": "code",
   "execution_count": 41,
   "id": "4cdfd484",
   "metadata": {},
   "outputs": [],
   "source": [
    "#load the webpage\n",
    "url='https://www.flipkart.com/'\n",
    "driver.get(url)"
   ]
  },
  {
   "cell_type": "code",
   "execution_count": 42,
   "id": "b514840e",
   "metadata": {},
   "outputs": [
    {
     "data": {
      "text/plain": [
       "<selenium.webdriver.remote.webelement.WebElement (session=\"b8f3f25f7480e95632d23f0aee59b46e\", element=\"c19dfd84-ebb7-49fe-8f96-0190ec5d196c\")>"
      ]
     },
     "execution_count": 42,
     "metadata": {},
     "output_type": "execute_result"
    }
   ],
   "source": [
    "#find element for search product in flipkart\n",
    "search_pro=driver.find_element_by_class_name('_3704LK')\n",
    "search_pro"
   ]
  },
  {
   "cell_type": "code",
   "execution_count": 43,
   "id": "eb4d76a6",
   "metadata": {},
   "outputs": [],
   "source": [
    "#send the input to the webpage\n",
    "search_pro.send_keys('Sunglass')"
   ]
  },
  {
   "cell_type": "code",
   "execution_count": 44,
   "id": "3e8784b9",
   "metadata": {},
   "outputs": [],
   "source": [
    "#clicking using class name function\n",
    "search_btn=driver.find_element_by_xpath('/html/body/div/div/div[1]/div[1]/div[2]/div[2]/form/div/button')\n",
    "search_btn.click()"
   ]
  },
  {
   "cell_type": "code",
   "execution_count": 45,
   "id": "4fd8b3d2",
   "metadata": {},
   "outputs": [],
   "source": [
    "product_name=[]\n",
    "product_des=[]\n",
    "price=[]\n",
    "discount=[]\n",
    "\n",
    "o1=o2=o3=0\n",
    "\n",
    "tag1 = driver.find_elements_by_xpath('//div[@class=\"_2WkVRV\"]')\n",
    "for i in tag1:\n",
    "    if(o1<100):\n",
    "        product_name.append(i.text)\n",
    "        o1+=1\n",
    "    else:\n",
    "        break\n",
    "    \n",
    "tag2 = driver.find_elements_by_xpath('//a[@class=\"IRpwTa\"]')\n",
    "for i in tag2:\n",
    "    if(o2<100):\n",
    "        product_des.append(i.text)\n",
    "        o2+=1\n",
    "    else:\n",
    "        break\n",
    "    \n",
    "tag3 = driver.find_elements_by_xpath('//div[@class=\"_30jeq3\"]')\n",
    "for i in tag3:\n",
    "    if(o3<100):\n",
    "        price.append(i.text)\n",
    "        o3+=1\n",
    "    else:\n",
    "        break\n"
   ]
  },
  {
   "cell_type": "code",
   "execution_count": 46,
   "id": "2d9a74ac",
   "metadata": {},
   "outputs": [
    {
     "data": {
      "text/plain": [
       "(40, 40, 40)"
      ]
     },
     "execution_count": 46,
     "metadata": {},
     "output_type": "execute_result"
    }
   ],
   "source": [
    "len(product_name),len(product_des),len(price)\n"
   ]
  },
  {
   "cell_type": "code",
   "execution_count": 74,
   "id": "7f74f3d8",
   "metadata": {},
   "outputs": [
    {
     "data": {
      "text/plain": [
       "100"
      ]
     },
     "execution_count": 74,
     "metadata": {},
     "output_type": "execute_result"
    }
   ],
   "source": [
    "disc=driver.find_elements_by_class_name('_3Ay6Sb')\n",
    "for i in disc:\n",
    "    discount.append(i.text)\n",
    "discount=discount[:100]\n",
    "len(discount)"
   ]
  },
  {
   "cell_type": "code",
   "execution_count": 81,
   "id": "e91aa12f",
   "metadata": {},
   "outputs": [],
   "source": [
    "nxt_btn=driver.find_element_by_xpath('/html/body/div/div/div[3]/div[1]/div[2]/div[12]/div/div/nav/a[3]')\n",
    "nxt_btn.click()"
   ]
  },
  {
   "cell_type": "code",
   "execution_count": 80,
   "id": "db85f9fd",
   "metadata": {},
   "outputs": [],
   "source": [
    "tag1=driver.find_elements_by_xpath('//div[@class=\"_2WkVRV\"]')\n",
    "for i in tag1:\n",
    "    if (o1<100):\n",
    "        product_name.append(i.text)\n",
    "        o1+=1\n",
    "    else:\n",
    "        break\n",
    "tag2=driver.find_elements_by_xpath('//a[@class=\"IRpwTa\"]')\n",
    "for i in tag2:\n",
    "    if(o2<100):\n",
    "        product_des.append(i.text)\n",
    "        o2+=1\n",
    "    else:\n",
    "        break\n",
    "tag3=driver.find_elements_by_xpath('//div[@class=\"_30jeq3\"]')\n",
    "for i in tag3:\n",
    "    if(o3<100):\n",
    "        price.append(i.text)\n",
    "        o3+=1\n",
    "    else:break\n",
    "        \n",
    "        \n",
    "        "
   ]
  },
  {
   "cell_type": "code",
   "execution_count": 82,
   "id": "d4e8f916",
   "metadata": {},
   "outputs": [],
   "source": [
    "nxt_btn=driver.find_element_by_xpath('/html/body/div/div/div[3]/div[1]/div[2]/div[12]/div/div/nav/a[3]')\n",
    "nxt_btn.click()"
   ]
  },
  {
   "cell_type": "code",
   "execution_count": 83,
   "id": "c2b9bcc0",
   "metadata": {},
   "outputs": [],
   "source": [
    "tag1=driver.find_elements_by_xpath('//div[@class=\"_2WkVRV\"]')\n",
    "for i in tag1:\n",
    "    if (o1<100):\n",
    "        product_name.append(i.text)\n",
    "        o1+=1\n",
    "    else:\n",
    "        break\n",
    "tag2=driver.find_elements_by_xpath('//a[@class=\"IRpwTa\"]')\n",
    "for i in tag2:\n",
    "    if(o2<100):\n",
    "        product_des.append(i.text)\n",
    "        o2+=1\n",
    "    else:\n",
    "        break\n",
    "tag3=driver.find_elements_by_xpath('//div[@class=\"_30jeq3\"]')\n",
    "for i in tag3:\n",
    "    if(o3<100):\n",
    "        price.append(i.text)\n",
    "        o3+=1\n",
    "    else:break\n"
   ]
  },
  {
   "cell_type": "code",
   "execution_count": null,
   "id": "7aa7f7ec",
   "metadata": {},
   "outputs": [],
   "source": []
  },
  {
   "cell_type": "code",
   "execution_count": null,
   "id": "19c1e250",
   "metadata": {},
   "outputs": [],
   "source": [
    "#previous class & xpath not working\n",
    "product_class='_2WkVRV'\n",
    "next_btn=driver.find_elements_by_xpath('//a[@class=\"_1LKTO3\"]')"
   ]
  },
  {
   "cell_type": "code",
   "execution_count": 84,
   "id": "4d49b01a",
   "metadata": {},
   "outputs": [
    {
     "data": {
      "text/plain": [
       "100"
      ]
     },
     "execution_count": 84,
     "metadata": {},
     "output_type": "execute_result"
    }
   ],
   "source": [
    "len(product_name)\n",
    "len(product_des)\n",
    "len(price)\n",
    "len(discount)"
   ]
  },
  {
   "cell_type": "code",
   "execution_count": 91,
   "id": "c4bb6c8e",
   "metadata": {},
   "outputs": [
    {
     "data": {
      "text/html": [
       "<div>\n",
       "<style scoped>\n",
       "    .dataframe tbody tr th:only-of-type {\n",
       "        vertical-align: middle;\n",
       "    }\n",
       "\n",
       "    .dataframe tbody tr th {\n",
       "        vertical-align: top;\n",
       "    }\n",
       "\n",
       "    .dataframe thead th {\n",
       "        text-align: right;\n",
       "    }\n",
       "</style>\n",
       "<table border=\"1\" class=\"dataframe\">\n",
       "  <thead>\n",
       "    <tr style=\"text-align: right;\">\n",
       "      <th></th>\n",
       "      <th>PRODUCT_NAME</th>\n",
       "      <th>PRODUCT_DESCRIPTION</th>\n",
       "      <th>PRICE</th>\n",
       "      <th>DISCOUNT</th>\n",
       "    </tr>\n",
       "  </thead>\n",
       "  <tbody>\n",
       "    <tr>\n",
       "      <th>0</th>\n",
       "      <td>Singco India</td>\n",
       "      <td>Gradient, Toughened Glass Lens, UV Protection ...</td>\n",
       "      <td>₹614</td>\n",
       "      <td>86% off</td>\n",
       "    </tr>\n",
       "    <tr>\n",
       "      <th>1</th>\n",
       "      <td>ROZZETTA CRAFT</td>\n",
       "      <td>UV Protection, Gradient Retro Square Sunglasse...</td>\n",
       "      <td>₹281</td>\n",
       "      <td>22% off</td>\n",
       "    </tr>\n",
       "    <tr>\n",
       "      <th>2</th>\n",
       "      <td>GANSTA</td>\n",
       "      <td>UV Protection, Riding Glasses Wayfarer Sunglas...</td>\n",
       "      <td>₹148</td>\n",
       "      <td>85% off</td>\n",
       "    </tr>\n",
       "    <tr>\n",
       "      <th>3</th>\n",
       "      <td>Elligator</td>\n",
       "      <td>UV Protection Round Sunglasses (54)</td>\n",
       "      <td>₹198</td>\n",
       "      <td>83% off</td>\n",
       "    </tr>\n",
       "    <tr>\n",
       "      <th>4</th>\n",
       "      <td>GANSTA</td>\n",
       "      <td>UV Protection Aviator Sunglasses (57)</td>\n",
       "      <td>₹234</td>\n",
       "      <td>81% off</td>\n",
       "    </tr>\n",
       "    <tr>\n",
       "      <th>...</th>\n",
       "      <td>...</td>\n",
       "      <td>...</td>\n",
       "      <td>...</td>\n",
       "      <td>...</td>\n",
       "    </tr>\n",
       "    <tr>\n",
       "      <th>95</th>\n",
       "      <td>AISLIN</td>\n",
       "      <td>UV Protection Wayfarer Sunglasses (61)</td>\n",
       "      <td>₹519</td>\n",
       "      <td>11% off</td>\n",
       "    </tr>\n",
       "    <tr>\n",
       "      <th>96</th>\n",
       "      <td>ROYAL SON</td>\n",
       "      <td>UV Protection, Gradient Butterfly Sunglasses (57)</td>\n",
       "      <td>₹139</td>\n",
       "      <td>45% off</td>\n",
       "    </tr>\n",
       "    <tr>\n",
       "      <th>97</th>\n",
       "      <td>kingsunglasses</td>\n",
       "      <td>Mirrored, UV Protection Aviator Sunglasses (56)</td>\n",
       "      <td>₹309</td>\n",
       "      <td>73% off</td>\n",
       "    </tr>\n",
       "    <tr>\n",
       "      <th>98</th>\n",
       "      <td>kingsunglasses</td>\n",
       "      <td>UV Protection Rectangular Sunglasses (55)</td>\n",
       "      <td>₹400</td>\n",
       "      <td>76% off</td>\n",
       "    </tr>\n",
       "    <tr>\n",
       "      <th>99</th>\n",
       "      <td>NuVew</td>\n",
       "      <td>UV Protection Cat-eye Sunglasses (60)</td>\n",
       "      <td>₹333</td>\n",
       "      <td>87% off</td>\n",
       "    </tr>\n",
       "  </tbody>\n",
       "</table>\n",
       "<p>100 rows × 4 columns</p>\n",
       "</div>"
      ],
      "text/plain": [
       "      PRODUCT_NAME                                PRODUCT_DESCRIPTION PRICE  \\\n",
       "0     Singco India  Gradient, Toughened Glass Lens, UV Protection ...  ₹614   \n",
       "1   ROZZETTA CRAFT  UV Protection, Gradient Retro Square Sunglasse...  ₹281   \n",
       "2           GANSTA  UV Protection, Riding Glasses Wayfarer Sunglas...  ₹148   \n",
       "3        Elligator                UV Protection Round Sunglasses (54)  ₹198   \n",
       "4           GANSTA              UV Protection Aviator Sunglasses (57)  ₹234   \n",
       "..             ...                                                ...   ...   \n",
       "95          AISLIN             UV Protection Wayfarer Sunglasses (61)  ₹519   \n",
       "96       ROYAL SON  UV Protection, Gradient Butterfly Sunglasses (57)  ₹139   \n",
       "97  kingsunglasses    Mirrored, UV Protection Aviator Sunglasses (56)  ₹309   \n",
       "98  kingsunglasses          UV Protection Rectangular Sunglasses (55)  ₹400   \n",
       "99           NuVew              UV Protection Cat-eye Sunglasses (60)  ₹333   \n",
       "\n",
       "   DISCOUNT  \n",
       "0   86% off  \n",
       "1   22% off  \n",
       "2   85% off  \n",
       "3   83% off  \n",
       "4   81% off  \n",
       "..      ...  \n",
       "95  11% off  \n",
       "96  45% off  \n",
       "97  73% off  \n",
       "98  76% off  \n",
       "99  87% off  \n",
       "\n",
       "[100 rows x 4 columns]"
      ]
     },
     "execution_count": 91,
     "metadata": {},
     "output_type": "execute_result"
    }
   ],
   "source": [
    "df=pd.DataFrame()\n",
    "df['PRODUCT_NAME']=product_name\n",
    "df['PRODUCT_DESCRIPTION']=product_des\n",
    "df['PRICE']=price\n",
    "df['DISCOUNT']=discount\n",
    "df"
   ]
  },
  {
   "cell_type": "markdown",
   "id": "361e8b0e",
   "metadata": {},
   "source": [
    "Q5: Scrape 100 reviews data from flipkart.com for iphone11 phone. You have to go the \n",
    "link: https://www.flipkart.com/apple-iphone-11-black-64-gb-includes- earpods-poweradapter/p/itm0f37c2240b217?pid=MOBFKCTSVZAXUHGR&lid=LSTMOBFKC TSVZAXUHGREPBFGI&marketplace. From this  page you have to scrape: \n",
    "1. Rating \n",
    "2. Review summary \n",
    "3. Full review \n",
    "4. You have to scrape this data for first 100 reviews."
   ]
  },
  {
   "cell_type": "code",
   "execution_count": 119,
   "id": "83a99812",
   "metadata": {},
   "outputs": [],
   "source": [
    "driver =webdriver.Chrome(r'C:\\Users\\Soumyajit\\Desktop\\chromedriver.exe')"
   ]
  },
  {
   "cell_type": "code",
   "execution_count": 120,
   "id": "b549dd0b",
   "metadata": {},
   "outputs": [],
   "source": [
    "url='https://www.flipkart.com/apple-iphone-11-black-64-gb-includes- earpods-poweradapter/p/itm0f37c2240b217?pid=MOBFKCTSVZAXUHGR&lid=LSTMOBFKC TSVZAXUHGREPBFGI&marketplace'\n",
    "driver.get(url)"
   ]
  },
  {
   "cell_type": "markdown",
   "id": "ed8aba6e",
   "metadata": {},
   "source": [
    "click on review section"
   ]
  },
  {
   "cell_type": "code",
   "execution_count": 121,
   "id": "a028852c",
   "metadata": {},
   "outputs": [],
   "source": [
    "all_review=driver.find_element_by_xpath('//div[@class=\"_3UAT2v _16PBlm\"]')\n",
    "all_review.click()"
   ]
  },
  {
   "cell_type": "code",
   "execution_count": 122,
   "id": "e2c3b5ab",
   "metadata": {},
   "outputs": [],
   "source": [
    "star=[]\n",
    "rev_sum=[]\n",
    "full_rev=[]"
   ]
  },
  {
   "cell_type": "markdown",
   "id": "df97f159",
   "metadata": {},
   "source": [
    "Extracting stars,review summery,full review for 1st page"
   ]
  },
  {
   "cell_type": "code",
   "execution_count": 123,
   "id": "3799e8a9",
   "metadata": {},
   "outputs": [],
   "source": [
    "o1=o2=o3=0\n",
    "tag1=driver.find_elements_by_xpath('//div[@class=\"_3LWZlK _1BLPMq\"]')\n",
    "for i in tag1:\n",
    "    if (o1<100):\n",
    "        star.append(i.text)\n",
    "        o1+=1\n",
    "    else:\n",
    "        break\n",
    "tag2=driver.find_elements_by_xpath('//p[@class=\"_2-N8zT\"]')\n",
    "for i in tag2:\n",
    "    if (o2<100):\n",
    "        rev_sum.append(i.text)\n",
    "        o2+=1\n",
    "    else:\n",
    "        break\n",
    "tag3=driver.find_elements_by_xpath('//div[@class=\"t-ZTKy\"]')\n",
    "for i in tag3:\n",
    "    if (o3<100):\n",
    "        full_rev.append(i.text)\n",
    "        o3+=1\n",
    "    else:\n",
    "        break\n",
    "    \n",
    "    \n",
    "\n",
    "        \n",
    "   "
   ]
  },
  {
   "cell_type": "markdown",
   "id": "14a5e5f0",
   "metadata": {},
   "source": [
    "checking for length of each list"
   ]
  },
  {
   "cell_type": "code",
   "execution_count": 124,
   "id": "ec984ab3",
   "metadata": {},
   "outputs": [
    {
     "data": {
      "text/plain": [
       "(10, 10, 10)"
      ]
     },
     "execution_count": 124,
     "metadata": {},
     "output_type": "execute_result"
    }
   ],
   "source": [
    "len(star),len(rev_sum),len(full_rev)"
   ]
  },
  {
   "cell_type": "code",
   "execution_count": 145,
   "id": "c5a6cbaf",
   "metadata": {},
   "outputs": [],
   "source": [
    "from selenium.common import exceptions\n",
    "for j in range(0,10):\n",
    "    try:\n",
    "        tag1=driver.find_elements_by_xpath('//div[@class=\"_3LWZlK _1BLPMq\"]')\n",
    "        for i in tag1:\n",
    "            if (o1<100):\n",
    "                star.append(i.text)\n",
    "                o1+=1\n",
    "            else:\n",
    "                break\n",
    "\n",
    "        tag2=driver.find_elements_by_xpath('//p[@class=\"_2-N8zT\"]')\n",
    "        for i in tag2:\n",
    "            if(o2<100):\n",
    "                rev_sum.append(i.text)\n",
    "                o2+=1\n",
    "            else:\n",
    "                break\n",
    "        tag3=driver.find_elements_by_xpath('//div[@class=\"t-ZTKy\"]')\n",
    "        for i in tag3:\n",
    "            if(o3<100):\n",
    "                full_rev.append(i.text)\n",
    "                o3+=1\n",
    "            else:\n",
    "                break\n",
    "        if (o1<100):\n",
    "            c=driver.find_element_by_xpath('//a[@class=\"_1LKTO3\"]')\n",
    "            c.click()\n",
    "    except exceptions.StaleElementReferenceException:\n",
    "        pass\n",
    "\n",
    "\n",
    "\n",
    "\n",
    "\n",
    "                                                            "
   ]
  },
  {
   "cell_type": "code",
   "execution_count": 146,
   "id": "36e22ac9",
   "metadata": {},
   "outputs": [
    {
     "data": {
      "text/plain": [
       "(100, 100, 100)"
      ]
     },
     "execution_count": 146,
     "metadata": {},
     "output_type": "execute_result"
    }
   ],
   "source": [
    "len(star),len(rev_sum),len(full_rev)"
   ]
  },
  {
   "cell_type": "code",
   "execution_count": 149,
   "id": "e3586ad3",
   "metadata": {},
   "outputs": [
    {
     "data": {
      "text/html": [
       "<div>\n",
       "<style scoped>\n",
       "    .dataframe tbody tr th:only-of-type {\n",
       "        vertical-align: middle;\n",
       "    }\n",
       "\n",
       "    .dataframe tbody tr th {\n",
       "        vertical-align: top;\n",
       "    }\n",
       "\n",
       "    .dataframe thead th {\n",
       "        text-align: right;\n",
       "    }\n",
       "</style>\n",
       "<table border=\"1\" class=\"dataframe\">\n",
       "  <thead>\n",
       "    <tr style=\"text-align: right;\">\n",
       "      <th></th>\n",
       "      <th>STARS</th>\n",
       "      <th>REVIEW_SUMMERY</th>\n",
       "      <th>FULL_REVIEW</th>\n",
       "    </tr>\n",
       "  </thead>\n",
       "  <tbody>\n",
       "    <tr>\n",
       "      <th>0</th>\n",
       "      <td>5</td>\n",
       "      <td>Brilliant</td>\n",
       "      <td>The Best Phone for the Money\\n\\nThe iPhone 11 ...</td>\n",
       "    </tr>\n",
       "    <tr>\n",
       "      <th>1</th>\n",
       "      <td>5</td>\n",
       "      <td>Simply awesome</td>\n",
       "      <td>Really satisfied with the Product I received.....</td>\n",
       "    </tr>\n",
       "    <tr>\n",
       "      <th>2</th>\n",
       "      <td>5</td>\n",
       "      <td>Best in the market!</td>\n",
       "      <td>Great iPhone very snappy experience as apple k...</td>\n",
       "    </tr>\n",
       "    <tr>\n",
       "      <th>3</th>\n",
       "      <td>5</td>\n",
       "      <td>Perfect product!</td>\n",
       "      <td>Amazing phone with great cameras and better ba...</td>\n",
       "    </tr>\n",
       "    <tr>\n",
       "      <th>4</th>\n",
       "      <td>5</td>\n",
       "      <td>Fabulous!</td>\n",
       "      <td>This is my first iOS phone. I am very happy wi...</td>\n",
       "    </tr>\n",
       "    <tr>\n",
       "      <th>...</th>\n",
       "      <td>...</td>\n",
       "      <td>...</td>\n",
       "      <td>...</td>\n",
       "    </tr>\n",
       "    <tr>\n",
       "      <th>95</th>\n",
       "      <td>5</td>\n",
       "      <td>Worth every penny</td>\n",
       "      <td>Smooth like butter, camera like fantabulous, s...</td>\n",
       "    </tr>\n",
       "    <tr>\n",
       "      <th>96</th>\n",
       "      <td>5</td>\n",
       "      <td>Classy product</td>\n",
       "      <td>It’s been almost a month since I have been usi...</td>\n",
       "    </tr>\n",
       "    <tr>\n",
       "      <th>97</th>\n",
       "      <td>5</td>\n",
       "      <td>Worth every penny</td>\n",
       "      <td>Really worth of money. i just love it. It is t...</td>\n",
       "    </tr>\n",
       "    <tr>\n",
       "      <th>98</th>\n",
       "      <td>5</td>\n",
       "      <td>Worth every penny</td>\n",
       "      <td>iphone 11 is a very good phone to buy only if ...</td>\n",
       "    </tr>\n",
       "    <tr>\n",
       "      <th>99</th>\n",
       "      <td>5</td>\n",
       "      <td>Terrific</td>\n",
       "      <td>It’s a must buy who is looking for an upgrade ...</td>\n",
       "    </tr>\n",
       "  </tbody>\n",
       "</table>\n",
       "<p>100 rows × 3 columns</p>\n",
       "</div>"
      ],
      "text/plain": [
       "   STARS       REVIEW_SUMMERY  \\\n",
       "0      5            Brilliant   \n",
       "1      5       Simply awesome   \n",
       "2      5  Best in the market!   \n",
       "3      5     Perfect product!   \n",
       "4      5            Fabulous!   \n",
       "..   ...                  ...   \n",
       "95     5    Worth every penny   \n",
       "96     5       Classy product   \n",
       "97     5    Worth every penny   \n",
       "98     5    Worth every penny   \n",
       "99     5             Terrific   \n",
       "\n",
       "                                          FULL_REVIEW  \n",
       "0   The Best Phone for the Money\\n\\nThe iPhone 11 ...  \n",
       "1   Really satisfied with the Product I received.....  \n",
       "2   Great iPhone very snappy experience as apple k...  \n",
       "3   Amazing phone with great cameras and better ba...  \n",
       "4   This is my first iOS phone. I am very happy wi...  \n",
       "..                                                ...  \n",
       "95  Smooth like butter, camera like fantabulous, s...  \n",
       "96  It’s been almost a month since I have been usi...  \n",
       "97  Really worth of money. i just love it. It is t...  \n",
       "98  iphone 11 is a very good phone to buy only if ...  \n",
       "99  It’s a must buy who is looking for an upgrade ...  \n",
       "\n",
       "[100 rows x 3 columns]"
      ]
     },
     "execution_count": 149,
     "metadata": {},
     "output_type": "execute_result"
    }
   ],
   "source": [
    "data=pd.DataFrame({'STARS':star, 'REVIEW_SUMMERY':rev_sum ,'FULL_REVIEW':full_rev})\n",
    "data"
   ]
  },
  {
   "cell_type": "markdown",
   "id": "36c4c579",
   "metadata": {},
   "source": [
    "Q6: Scrape data for first 100 sneakers you find when you visit flipkart.com andsearch for “sneakers” in the search field. You have to scrape 4 attributes of each sneaker: 1. Brand 2. Product Description 3. Price 4.percentage off"
   ]
  },
  {
   "cell_type": "code",
   "execution_count": 309,
   "id": "86343c20",
   "metadata": {},
   "outputs": [],
   "source": [
    "driver=webdriver.Chrome(r'C:\\Users\\Soumyajit\\Desktop\\chromedriver.exe')"
   ]
  },
  {
   "cell_type": "code",
   "execution_count": 310,
   "id": "90ddc7b0",
   "metadata": {},
   "outputs": [],
   "source": [
    "url=('https://www.flipkart.com/')\n",
    "driver.get(url)"
   ]
  },
  {
   "cell_type": "code",
   "execution_count": 311,
   "id": "e6426f0d",
   "metadata": {},
   "outputs": [],
   "source": [
    "close_pop_up=driver.find_element_by_xpath('//button[@class=\"_2KpZ6l _2doB4z\"]') #closing the popup\n",
    "close_pop_up.click()\n"
   ]
  },
  {
   "cell_type": "code",
   "execution_count": 312,
   "id": "b0d99c17",
   "metadata": {},
   "outputs": [],
   "source": [
    "search=driver.find_element_by_xpath('//input[@class=\"_3704LK\"]')\n",
    "search.send_keys('sneaker')\n"
   ]
  },
  {
   "cell_type": "code",
   "execution_count": 313,
   "id": "eced975e",
   "metadata": {},
   "outputs": [],
   "source": [
    "search_btn=driver.find_element_by_xpath('//button[@class=\"L0Z3Pu\"]')\n",
    "search_btn.click()"
   ]
  },
  {
   "cell_type": "code",
   "execution_count": 314,
   "id": "a14534f7",
   "metadata": {},
   "outputs": [],
   "source": [
    "brand=[]\n",
    "prod_dsc=[]\n",
    "price=[]\n",
    "discount=[]\n"
   ]
  },
  {
   "cell_type": "code",
   "execution_count": 315,
   "id": "0ec2c4d2",
   "metadata": {},
   "outputs": [],
   "source": [
    "#extracting  data & storing into those list respectively\n",
    "from selenium import common\n",
    "o1=o2=o3=o4=0\n",
    "for j in range(0,4):\n",
    "    try:\n",
    "        tag1=driver.find_elements_by_xpath('//div[@class=\"_2WkVRV\"]') #brand tag\n",
    "        for i in tag1:\n",
    "            if (o1<100):\n",
    "                brand.append(i.text)\n",
    "                o1+=1\n",
    "            else:\n",
    "                break\n",
    "        tag2=driver.find_elements_by_xpath('//div[@class=\"_30jeq3\"]')#price\n",
    "        for i in tag2:\n",
    "            if(o2<100):\n",
    "                price.append(i.text)\n",
    "                o2+=1\n",
    "            else:\n",
    "                break\n",
    "        tag3=driver.find_elements_by_xpath('//div[@class=\"_2B099V\"]/a[1]') #product details tag\n",
    "        for i in tag3:\n",
    "            if (o3<100):\n",
    "                prod_dsc.append(i.text)\n",
    "                o3+=1\n",
    "            else:\n",
    "                break\n",
    "        tag4=driver.find_elements_by_xpath('//div[@class=\"_3Ay6Sb\"]')#discount\n",
    "        for i in tag4:\n",
    "            if (o4<100):\n",
    "                discount.append(i.text)\n",
    "                o4+=1\n",
    "            else:\n",
    "                break\n",
    "        if (o1<100):\n",
    "            c=driver.find_element_by_xpath('//a[@class=\"_1LKTO3\"]')  #next button tag\n",
    "            c.click()\n",
    "    except exceptions.StaleElementReferenceException:\n",
    "        pass\n",
    "        "
   ]
  },
  {
   "cell_type": "code",
   "execution_count": 316,
   "id": "733d08cf",
   "metadata": {},
   "outputs": [
    {
     "data": {
      "text/html": [
       "<div>\n",
       "<style scoped>\n",
       "    .dataframe tbody tr th:only-of-type {\n",
       "        vertical-align: middle;\n",
       "    }\n",
       "\n",
       "    .dataframe tbody tr th {\n",
       "        vertical-align: top;\n",
       "    }\n",
       "\n",
       "    .dataframe thead th {\n",
       "        text-align: right;\n",
       "    }\n",
       "</style>\n",
       "<table border=\"1\" class=\"dataframe\">\n",
       "  <thead>\n",
       "    <tr style=\"text-align: right;\">\n",
       "      <th></th>\n",
       "      <th>BRAND</th>\n",
       "      <th>PRICE</th>\n",
       "      <th>PRODUCT_DESCRIPTION</th>\n",
       "      <th>DISCOUNT</th>\n",
       "    </tr>\n",
       "  </thead>\n",
       "  <tbody>\n",
       "    <tr>\n",
       "      <th>0</th>\n",
       "      <td>BLANCCY</td>\n",
       "      <td>₹449</td>\n",
       "      <td>Sneakers For Men</td>\n",
       "      <td>55% off</td>\n",
       "    </tr>\n",
       "    <tr>\n",
       "      <th>1</th>\n",
       "      <td>World Wear Footwear</td>\n",
       "      <td>₹398</td>\n",
       "      <td>Combo Pack of 2 Latest Collection of Stylish W...</td>\n",
       "      <td>73% off</td>\n",
       "    </tr>\n",
       "    <tr>\n",
       "      <th>2</th>\n",
       "      <td>Elevarse</td>\n",
       "      <td>₹349</td>\n",
       "      <td>Sneakers For Men</td>\n",
       "      <td>65% off</td>\n",
       "    </tr>\n",
       "    <tr>\n",
       "      <th>3</th>\n",
       "      <td>BRUTON</td>\n",
       "      <td>₹259</td>\n",
       "      <td>Modern Trendy Sneakers Shoes Sneakers For Men</td>\n",
       "      <td>80% off</td>\n",
       "    </tr>\n",
       "    <tr>\n",
       "      <th>4</th>\n",
       "      <td>URBANBOX</td>\n",
       "      <td>₹220</td>\n",
       "      <td>Sneakers Sneakers For Men</td>\n",
       "      <td>77% off</td>\n",
       "    </tr>\n",
       "    <tr>\n",
       "      <th>...</th>\n",
       "      <td>...</td>\n",
       "      <td>...</td>\n",
       "      <td>...</td>\n",
       "      <td>...</td>\n",
       "    </tr>\n",
       "    <tr>\n",
       "      <th>95</th>\n",
       "      <td>HOTSTYLE</td>\n",
       "      <td>₹339</td>\n",
       "      <td>Sneakers For Women</td>\n",
       "      <td>73% off</td>\n",
       "    </tr>\n",
       "    <tr>\n",
       "      <th>96</th>\n",
       "      <td>Kreverse</td>\n",
       "      <td>₹328</td>\n",
       "      <td>Sneakers For Men</td>\n",
       "      <td>74% off</td>\n",
       "    </tr>\n",
       "    <tr>\n",
       "      <th>97</th>\n",
       "      <td>HRX by Hrithik Roshan</td>\n",
       "      <td>₹448</td>\n",
       "      <td>Original Luxury Branded Fashionable Men's Casu...</td>\n",
       "      <td>77% off</td>\n",
       "    </tr>\n",
       "    <tr>\n",
       "      <th>98</th>\n",
       "      <td>KWIK FIT</td>\n",
       "      <td>₹711</td>\n",
       "      <td>Casual Sneakrs For Men Sneakers For Men</td>\n",
       "      <td>45% off</td>\n",
       "    </tr>\n",
       "    <tr>\n",
       "      <th>99</th>\n",
       "      <td>RapidBox</td>\n",
       "      <td>₹433</td>\n",
       "      <td>Sneakers For Men</td>\n",
       "      <td>56% off</td>\n",
       "    </tr>\n",
       "  </tbody>\n",
       "</table>\n",
       "<p>100 rows × 4 columns</p>\n",
       "</div>"
      ],
      "text/plain": [
       "                    BRAND PRICE  \\\n",
       "0                 BLANCCY  ₹449   \n",
       "1     World Wear Footwear  ₹398   \n",
       "2                Elevarse  ₹349   \n",
       "3                  BRUTON  ₹259   \n",
       "4                URBANBOX  ₹220   \n",
       "..                    ...   ...   \n",
       "95               HOTSTYLE  ₹339   \n",
       "96               Kreverse  ₹328   \n",
       "97  HRX by Hrithik Roshan  ₹448   \n",
       "98               KWIK FIT  ₹711   \n",
       "99               RapidBox  ₹433   \n",
       "\n",
       "                                  PRODUCT_DESCRIPTION DISCOUNT  \n",
       "0                                    Sneakers For Men  55% off  \n",
       "1   Combo Pack of 2 Latest Collection of Stylish W...  73% off  \n",
       "2                                    Sneakers For Men  65% off  \n",
       "3       Modern Trendy Sneakers Shoes Sneakers For Men  80% off  \n",
       "4                           Sneakers Sneakers For Men  77% off  \n",
       "..                                                ...      ...  \n",
       "95                                 Sneakers For Women  73% off  \n",
       "96                                   Sneakers For Men  74% off  \n",
       "97  Original Luxury Branded Fashionable Men's Casu...  77% off  \n",
       "98            Casual Sneakrs For Men Sneakers For Men  45% off  \n",
       "99                                   Sneakers For Men  56% off  \n",
       "\n",
       "[100 rows x 4 columns]"
      ]
     },
     "execution_count": 316,
     "metadata": {},
     "output_type": "execute_result"
    }
   ],
   "source": [
    "#creating dataframe\n",
    "data=pd.DataFrame({'BRAND':brand,'PRICE':price,'PRODUCT_DESCRIPTION':prod_dsc,'DISCOUNT':discount})\n",
    "data"
   ]
  },
  {
   "cell_type": "markdown",
   "id": "0996228f",
   "metadata": {},
   "source": [
    "Q7: Go to the link - https://www.myntra.com/shoes Set Price filter to “Rs. 7149 to Rs. 14099 ” , Color filter to “Black”,And then scrape First 100 shoes data you get. The data should include \n",
    "1.“Brand” of the shoes , \n",
    "2.Short Shoe description, \n",
    "3price of the shoe."
   ]
  },
  {
   "cell_type": "code",
   "execution_count": 287,
   "id": "43cd0b06",
   "metadata": {},
   "outputs": [],
   "source": [
    "driver=webdriver.Chrome(r'C:\\Users\\Soumyajit\\Desktop\\chromedriver.exe')"
   ]
  },
  {
   "cell_type": "code",
   "execution_count": 288,
   "id": "6d8dd6b3",
   "metadata": {},
   "outputs": [],
   "source": [
    "url=('https://www.myntra.com/shoes')\n",
    "driver.get(url)"
   ]
  },
  {
   "cell_type": "code",
   "execution_count": 289,
   "id": "cad23fad",
   "metadata": {},
   "outputs": [],
   "source": [
    "black_check=driver.find_element_by_xpath('/html/body/div[2]/div/div[1]/main/div[3]/div[1]/section/div/div[6]/ul/li[1]/label/div')\n",
    "black_check.click() #click on blavk check box"
   ]
  },
  {
   "cell_type": "code",
   "execution_count": 290,
   "id": "f51c19b0",
   "metadata": {},
   "outputs": [],
   "source": [
    "price_check=driver.find_element_by_xpath('/html/body/div[2]/div/div[1]/main/div[3]/div[1]/section/div/div[5]/ul/li[2]/label/div')\n",
    "price_check.click()# click on price check box"
   ]
  },
  {
   "cell_type": "code",
   "execution_count": 291,
   "id": "21802b03",
   "metadata": {},
   "outputs": [],
   "source": [
    "brand=[]\n",
    "shoe_dsc=[]\n",
    "price=[]\n"
   ]
  },
  {
   "cell_type": "code",
   "execution_count": 292,
   "id": "92d0c526",
   "metadata": {},
   "outputs": [],
   "source": [
    "o1=o2=o3=0\n",
    "while o1<100:\n",
    "    try:\n",
    "        tag1=driver.find_elements_by_xpath('//div[@class=\"product-productMetaInfo\"]/h3[1]') #brand \n",
    "        for i in tag1:\n",
    "            if (o1<100):\n",
    "                brand.append(i.text)\n",
    "                o1+=1\n",
    "            else:\n",
    "                break\n",
    "\n",
    "        tag2=driver.find_elements_by_xpath('//div[@class=\"product-productMetaInfo\"]/h4[1]')#desc\n",
    "        for i in tag2:\n",
    "            if(o2<100):\n",
    "                shoe_dsc.append(i.text)\n",
    "                o2+=1\n",
    "            else:\n",
    "                break\n",
    "        tag3=driver.find_elements_by_xpath('//div[@class=\"product-price\"]/span[1]') #price\n",
    "        for i in tag3:\n",
    "            if (o3<100):\n",
    "                price.append(i.text.split('Rs.')[1])\n",
    "                o3+=1\n",
    "            else:\n",
    "                break\n",
    "        if (o1<100):\n",
    "            next_pg=driver.find_element_by_xpath('//li[@class=\"pagination-next\"]') #navigating to next page \n",
    "            next_pg.click()\n",
    "    except exceptions.StaleElementReferenceException:\n",
    "        pass\n",
    "\n",
    "                "
   ]
  },
  {
   "cell_type": "code",
   "execution_count": 293,
   "id": "6c3f59ac",
   "metadata": {},
   "outputs": [
    {
     "data": {
      "text/plain": [
       "(100, 100, 100)"
      ]
     },
     "execution_count": 293,
     "metadata": {},
     "output_type": "execute_result"
    }
   ],
   "source": [
    "len(brand),len(price),len(shoe_dsc)"
   ]
  },
  {
   "cell_type": "code",
   "execution_count": 294,
   "id": "76eadde9",
   "metadata": {},
   "outputs": [
    {
     "data": {
      "text/html": [
       "<div>\n",
       "<style scoped>\n",
       "    .dataframe tbody tr th:only-of-type {\n",
       "        vertical-align: middle;\n",
       "    }\n",
       "\n",
       "    .dataframe tbody tr th {\n",
       "        vertical-align: top;\n",
       "    }\n",
       "\n",
       "    .dataframe thead th {\n",
       "        text-align: right;\n",
       "    }\n",
       "</style>\n",
       "<table border=\"1\" class=\"dataframe\">\n",
       "  <thead>\n",
       "    <tr style=\"text-align: right;\">\n",
       "      <th></th>\n",
       "      <th>BRAND</th>\n",
       "      <th>PRICE</th>\n",
       "      <th>SHOE_DESC</th>\n",
       "    </tr>\n",
       "  </thead>\n",
       "  <tbody>\n",
       "    <tr>\n",
       "      <th>0</th>\n",
       "      <td>Nike</td>\n",
       "      <td>9196</td>\n",
       "      <td>Men AIR ZOOM PEGASUS 38</td>\n",
       "    </tr>\n",
       "    <tr>\n",
       "      <th>1</th>\n",
       "      <td>Nike</td>\n",
       "      <td>9805</td>\n",
       "      <td>Men Zoom F3 Basketball Shoes</td>\n",
       "    </tr>\n",
       "    <tr>\n",
       "      <th>2</th>\n",
       "      <td>Tommy Hilfiger</td>\n",
       "      <td>8999</td>\n",
       "      <td>Men Textured Loafers</td>\n",
       "    </tr>\n",
       "    <tr>\n",
       "      <th>3</th>\n",
       "      <td>Nike</td>\n",
       "      <td>7995</td>\n",
       "      <td>Men Winflo 7 Running Shoes</td>\n",
       "    </tr>\n",
       "    <tr>\n",
       "      <th>4</th>\n",
       "      <td>ALDO</td>\n",
       "      <td>13999</td>\n",
       "      <td>Men Woven Design Sneakers</td>\n",
       "    </tr>\n",
       "    <tr>\n",
       "      <th>...</th>\n",
       "      <td>...</td>\n",
       "      <td>...</td>\n",
       "      <td>...</td>\n",
       "    </tr>\n",
       "    <tr>\n",
       "      <th>95</th>\n",
       "      <td>Saint G</td>\n",
       "      <td>9265</td>\n",
       "      <td>Leather Platform Heeled Boots</td>\n",
       "    </tr>\n",
       "    <tr>\n",
       "      <th>96</th>\n",
       "      <td>Pavers England</td>\n",
       "      <td>8399</td>\n",
       "      <td>Leather Slim Heels</td>\n",
       "    </tr>\n",
       "    <tr>\n",
       "      <th>97</th>\n",
       "      <td>Geox</td>\n",
       "      <td>11815</td>\n",
       "      <td>Leather Block Heeled Boots with Bows</td>\n",
       "    </tr>\n",
       "    <tr>\n",
       "      <th>98</th>\n",
       "      <td>Geox</td>\n",
       "      <td>8925</td>\n",
       "      <td>Suede Party High-Top Block Heeled Boots</td>\n",
       "    </tr>\n",
       "    <tr>\n",
       "      <th>99</th>\n",
       "      <td>Pavers England</td>\n",
       "      <td>11475</td>\n",
       "      <td>Suede High-Top Flatform Heeled Boots</td>\n",
       "    </tr>\n",
       "  </tbody>\n",
       "</table>\n",
       "<p>100 rows × 3 columns</p>\n",
       "</div>"
      ],
      "text/plain": [
       "             BRAND   PRICE                                SHOE_DESC\n",
       "0             Nike    9196                  Men AIR ZOOM PEGASUS 38\n",
       "1             Nike    9805             Men Zoom F3 Basketball Shoes\n",
       "2   Tommy Hilfiger    8999                     Men Textured Loafers\n",
       "3             Nike    7995               Men Winflo 7 Running Shoes\n",
       "4             ALDO   13999                Men Woven Design Sneakers\n",
       "..             ...     ...                                      ...\n",
       "95         Saint G    9265            Leather Platform Heeled Boots\n",
       "96  Pavers England    8399                       Leather Slim Heels\n",
       "97            Geox   11815     Leather Block Heeled Boots with Bows\n",
       "98            Geox    8925  Suede Party High-Top Block Heeled Boots\n",
       "99  Pavers England   11475     Suede High-Top Flatform Heeled Boots\n",
       "\n",
       "[100 rows x 3 columns]"
      ]
     },
     "execution_count": 294,
     "metadata": {},
     "output_type": "execute_result"
    }
   ],
   "source": [
    "data=pd.DataFrame({'BRAND':brand,'PRICE':price,'SHOE_DESC':shoe_dsc})\n",
    "data"
   ]
  },
  {
   "cell_type": "markdown",
   "id": "e2500d22",
   "metadata": {},
   "source": [
    "Q8: Go to webpage https://www.amazon.in/ Enter “Laptop” in the search field and then click the search icon. Then set CPU Type filter to “Intel Core i7” and “Intel Core i9”.After setting the filters scrape first 10 laptops data. You have to scrape 3 attributesfor each laptop: \n",
    "1. Title \n",
    "2. Ratings \n",
    "3. Price\n",
    "As shown in the below image as the tick marked attributes."
   ]
  },
  {
   "cell_type": "code",
   "execution_count": 419,
   "id": "0757256a",
   "metadata": {},
   "outputs": [],
   "source": [
    "driver=webdriver.Chrome(r'C:\\Users\\Soumyajit\\Desktop\\chromedriver.exe')"
   ]
  },
  {
   "cell_type": "code",
   "execution_count": 420,
   "id": "1b9fe35f",
   "metadata": {},
   "outputs": [],
   "source": [
    "url='https://www.amazon.in/'\n",
    "driver.get(url)"
   ]
  },
  {
   "cell_type": "code",
   "execution_count": 421,
   "id": "9baba4f9",
   "metadata": {},
   "outputs": [],
   "source": [
    "search=driver.find_element_by_xpath('//*[@id=\"twotabsearchtextbox\"]')#inserting laptop keyword in search bar\n",
    "search.send_keys('Laptop')\n"
   ]
  },
  {
   "cell_type": "code",
   "execution_count": 422,
   "id": "b99e76ff",
   "metadata": {},
   "outputs": [],
   "source": [
    "#then click\n",
    "search_btn=driver.find_element_by_xpath('/html/body/div[1]/header/div/div[1]/div[2]/div/form/div[3]/div/span/input')\n",
    "search_btn.click()"
   ]
  },
  {
   "cell_type": "code",
   "execution_count": 58,
   "id": "fb00f4c2",
   "metadata": {},
   "outputs": [],
   "source": [
    "#click on chexk box for i7 laptop\n",
    "check_bx1=driver.find_element_by_xpath('//*[@id=\"p_n_feature_thirteen_browse-bin/12598163031\"]/span/a/div/label/i')\n",
    "check_bx1.click()\n"
   ]
  },
  {
   "cell_type": "code",
   "execution_count": 64,
   "id": "c6d9278a",
   "metadata": {},
   "outputs": [],
   "source": []
  },
  {
   "cell_type": "code",
   "execution_count": 80,
   "id": "fae4c350",
   "metadata": {},
   "outputs": [],
   "source": [
    "title=[]\n",
    "a1=0\n",
    "tag1=driver.find_elements_by_xpath('//h2[@class=\"a-size-mini a-spacing-none a-color-base s-line-clamp-2\"]')\n",
    "for i in tag1:\n",
    "    if (a1<10):\n",
    "        title.append(i.text)\n",
    "        a1+=1\n",
    "    else:\n",
    "        break"
   ]
  },
  {
   "cell_type": "code",
   "execution_count": 81,
   "id": "3a68b350",
   "metadata": {},
   "outputs": [
    {
     "data": {
      "text/plain": [
       "10"
      ]
     },
     "execution_count": 81,
     "metadata": {},
     "output_type": "execute_result"
    }
   ],
   "source": [
    "len(title)"
   ]
  },
  {
   "cell_type": "code",
   "execution_count": 82,
   "id": "672d1b8c",
   "metadata": {},
   "outputs": [
    {
     "data": {
      "text/plain": [
       "10"
      ]
     },
     "execution_count": 82,
     "metadata": {},
     "output_type": "execute_result"
    }
   ],
   "source": [
    "ratings=[]\n",
    "tag2=driver.find_elements_by_xpath('//div[@class=\"a-row a-size-small\"]/span[1]')\n",
    "for i in tag2:\n",
    "     ratings.append(i.get_attribute('aria-label'))\n",
    "ratings = ratings[:10]\n",
    "len(ratings)\n",
    "    "
   ]
  },
  {
   "cell_type": "code",
   "execution_count": 86,
   "id": "410aa41e",
   "metadata": {},
   "outputs": [
    {
     "data": {
      "text/plain": [
       "10"
      ]
     },
     "execution_count": 86,
     "metadata": {},
     "output_type": "execute_result"
    }
   ],
   "source": [
    "price=[]\n",
    "tag3=driver.find_elements_by_xpath('//span[@class=\"a-price-whole\"]')\n",
    "for i in tag3:\n",
    "    price.append(i.text)\n",
    "price=price[:10]\n",
    "len(price)"
   ]
  },
  {
   "cell_type": "markdown",
   "id": "07fff21a",
   "metadata": {},
   "source": [
    "#dataset for intel i7"
   ]
  },
  {
   "cell_type": "code",
   "execution_count": 90,
   "id": "ac34acb0",
   "metadata": {},
   "outputs": [
    {
     "data": {
      "text/html": [
       "<div>\n",
       "<style scoped>\n",
       "    .dataframe tbody tr th:only-of-type {\n",
       "        vertical-align: middle;\n",
       "    }\n",
       "\n",
       "    .dataframe tbody tr th {\n",
       "        vertical-align: top;\n",
       "    }\n",
       "\n",
       "    .dataframe thead th {\n",
       "        text-align: right;\n",
       "    }\n",
       "</style>\n",
       "<table border=\"1\" class=\"dataframe\">\n",
       "  <thead>\n",
       "    <tr style=\"text-align: right;\">\n",
       "      <th></th>\n",
       "      <th>LAPTOP</th>\n",
       "      <th>RAT0INGS</th>\n",
       "      <th>PRICE</th>\n",
       "    </tr>\n",
       "  </thead>\n",
       "  <tbody>\n",
       "    <tr>\n",
       "      <th>0</th>\n",
       "      <td>Fujitsu UH-X 11th Gen Intel i7 Core 13.3” (33....</td>\n",
       "      <td>4.4 out of 5 stars</td>\n",
       "      <td>92,490</td>\n",
       "    </tr>\n",
       "    <tr>\n",
       "      <th>1</th>\n",
       "      <td>LG Gram 16 inches Intel Evo 11th Gen Core i7 U...</td>\n",
       "      <td>4.4 out of 5 stars</td>\n",
       "      <td>92,999</td>\n",
       "    </tr>\n",
       "    <tr>\n",
       "      <th>2</th>\n",
       "      <td>Mi Notebook Ultra 3.2K resolution display Inte...</td>\n",
       "      <td>4.3 out of 5 stars</td>\n",
       "      <td>86,906</td>\n",
       "    </tr>\n",
       "    <tr>\n",
       "      <th>3</th>\n",
       "      <td>ASUS VivoBook 14 (2021), 14-inch (35.56 cms) F...</td>\n",
       "      <td>4.3 out of 5 stars</td>\n",
       "      <td>59,990</td>\n",
       "    </tr>\n",
       "    <tr>\n",
       "      <th>4</th>\n",
       "      <td>ASUS TUF Gaming F15 (2021) 15.6-inch (39.62 cm...</td>\n",
       "      <td>4.3 out of 5 stars</td>\n",
       "      <td>96,990</td>\n",
       "    </tr>\n",
       "    <tr>\n",
       "      <th>5</th>\n",
       "      <td>HP Pavilion x360 11th Gen Intel Core i7 14 inc...</td>\n",
       "      <td>4.6 out of 5 stars</td>\n",
       "      <td>86,838</td>\n",
       "    </tr>\n",
       "    <tr>\n",
       "      <th>6</th>\n",
       "      <td>LG Gram Intel Evo 11th Gen Core i7 17 inches U...</td>\n",
       "      <td>4.6 out of 5 stars</td>\n",
       "      <td>99,499</td>\n",
       "    </tr>\n",
       "    <tr>\n",
       "      <th>7</th>\n",
       "      <td>LG Gram 14 inches Ultra-Light Intel Evo 11th G...</td>\n",
       "      <td>4.4 out of 5 stars</td>\n",
       "      <td>81,999</td>\n",
       "    </tr>\n",
       "    <tr>\n",
       "      <th>8</th>\n",
       "      <td>Lenovo ThinkBook 13s Intel 11th Gen Core i7 13...</td>\n",
       "      <td>4.0 out of 5 stars</td>\n",
       "      <td>84,990</td>\n",
       "    </tr>\n",
       "    <tr>\n",
       "      <th>9</th>\n",
       "      <td>ASUS TUF Dash F15 (2021) 15.6-inch (39.62 cms)...</td>\n",
       "      <td>4.2 out of 5 stars</td>\n",
       "      <td>93,990</td>\n",
       "    </tr>\n",
       "  </tbody>\n",
       "</table>\n",
       "</div>"
      ],
      "text/plain": [
       "                                              LAPTOP            RAT0INGS  \\\n",
       "0  Fujitsu UH-X 11th Gen Intel i7 Core 13.3” (33....  4.4 out of 5 stars   \n",
       "1  LG Gram 16 inches Intel Evo 11th Gen Core i7 U...  4.4 out of 5 stars   \n",
       "2  Mi Notebook Ultra 3.2K resolution display Inte...  4.3 out of 5 stars   \n",
       "3  ASUS VivoBook 14 (2021), 14-inch (35.56 cms) F...  4.3 out of 5 stars   \n",
       "4  ASUS TUF Gaming F15 (2021) 15.6-inch (39.62 cm...  4.3 out of 5 stars   \n",
       "5  HP Pavilion x360 11th Gen Intel Core i7 14 inc...  4.6 out of 5 stars   \n",
       "6  LG Gram Intel Evo 11th Gen Core i7 17 inches U...  4.6 out of 5 stars   \n",
       "7  LG Gram 14 inches Ultra-Light Intel Evo 11th G...  4.4 out of 5 stars   \n",
       "8  Lenovo ThinkBook 13s Intel 11th Gen Core i7 13...  4.0 out of 5 stars   \n",
       "9  ASUS TUF Dash F15 (2021) 15.6-inch (39.62 cms)...  4.2 out of 5 stars   \n",
       "\n",
       "    PRICE  \n",
       "0  92,490  \n",
       "1  92,999  \n",
       "2  86,906  \n",
       "3  59,990  \n",
       "4  96,990  \n",
       "5  86,838  \n",
       "6  99,499  \n",
       "7  81,999  \n",
       "8  84,990  \n",
       "9  93,990  "
      ]
     },
     "execution_count": 90,
     "metadata": {},
     "output_type": "execute_result"
    }
   ],
   "source": [
    "data=pd.DataFrame({'LAPTOP':title ,'RAT0INGS':ratings,'PRICE':price})\n",
    "data\n",
    "                   "
   ]
  },
  {
   "cell_type": "markdown",
   "id": "f6759572",
   "metadata": {},
   "source": [
    "NOTE:  As There was no option for i9 processor at the time of scraping, I could't scrape the data for the same"
   ]
  },
  {
   "cell_type": "markdown",
   "id": "4a592da6",
   "metadata": {},
   "source": [
    "Q9: Write a python program to scrape data for first 10 job results for Data Scientist Designation in Noida location. You have to scrape company name, No. of days ago when job was posted, Rating of the company. This task will be done in following steps:\n",
    "1. First get the webpage https://www.ambitionbox.com/\n",
    "2. Click on the Job option\n",
    "3.After reaching to the next webpage, In place of “Search by Designations, Companies, Skills” enter “Data Scientist” and click on search button.\n",
    "4. You will reach to the following web page click on location and in place of “Search location” enter “Noida” and select location “Noida”.\n",
    "5. Then scrape the data for the first 10 jobs results you get on the above shown page. \n",
    "6. Finally create a dataframe of the scraped data."
   ]
  },
  {
   "cell_type": "code",
   "execution_count": 216,
   "id": "98e782f4",
   "metadata": {},
   "outputs": [],
   "source": [
    "driver=webdriver.Chrome(r'C:\\Users\\Soumyajit\\Desktop\\chromedriver.exe') #loading web driver"
   ]
  },
  {
   "cell_type": "code",
   "execution_count": 257,
   "id": "377b5702",
   "metadata": {},
   "outputs": [],
   "source": [
    "url='https://www.ambitionbox.com/'\n",
    "driver.get(url)                     #access the url"
   ]
  },
  {
   "cell_type": "code",
   "execution_count": 258,
   "id": "eea3899f",
   "metadata": {},
   "outputs": [],
   "source": [
    "job=driver.find_element_by_xpath('/html/body/div[1]/nav/nav/a[6]') # click on job module\n",
    "job.click()"
   ]
  },
  {
   "cell_type": "code",
   "execution_count": 259,
   "id": "2fceddd4",
   "metadata": {},
   "outputs": [],
   "source": [
    "job_search=driver.find_element_by_xpath('/html/body/div/div/div/div[2]/div[1]/div/div/div/div/span/input')\n",
    "job_search.send_keys('Data Scientist') #enter the key of 'Data Scientist'\n",
    "search_btn=driver.find_element_by_xpath('/html/body/div/div/div/div[2]/div[1]/div/div/div/button/span')\n",
    "search_btn.click()    #click on search button"
   ]
  },
  {
   "cell_type": "code",
   "execution_count": 260,
   "id": "d5753e65",
   "metadata": {},
   "outputs": [],
   "source": [
    "#click on search location\n",
    "loc=driver.find_element_by_xpath('/html/body/div/div/div/div[2]/div[2]/div[1]/div/div/div/div[2]/div[1]/p')\n",
    "loc.click()\n",
    "#in locatin entering 'Noida'\n",
    "loc_tag=driver.find_element_by_xpath('//*[@id=\"filters-row\"]/div/div/div[2]/div[2]/div/div[2]/input')\n",
    "loc_tag.click()\n",
    "noida=driver.find_element_by_xpath('/html/body/div/div/div/div[2]/div[2]/div[1]/div/div/div/div[2]/div[2]/div/div[2]/input')\n",
    "noida.send_keys('Noida')"
   ]
  },
  {
   "cell_type": "code",
   "execution_count": 261,
   "id": "fa8d7101",
   "metadata": {},
   "outputs": [],
   "source": [
    "noida_radio=driver.find_element_by_xpath('/html/body/div/div/div/div[2]/div[2]/div[1]/div/div/div/div[2]/div[2]/div/div[3]/div[1]/div[1]/div/label')\n",
    "noida_radio.click() #click on the radio button 'Noida'"
   ]
  },
  {
   "cell_type": "code",
   "execution_count": 262,
   "id": "e027603b",
   "metadata": {},
   "outputs": [
    {
     "data": {
      "text/plain": [
       "10"
      ]
     },
     "execution_count": 262,
     "metadata": {},
     "output_type": "execute_result"
    }
   ],
   "source": [
    "#crateing list and storing company name\n",
    "company=[]\n",
    "o1=o2=o3=0\n",
    "tag1=driver.find_elements_by_xpath('//p[@class=\"company body-medium\"]')\n",
    "for i in tag1:\n",
    "    if (o1<10):\n",
    "        company.append(i.text)\n",
    "        o1+=1\n",
    "    else:\n",
    "        break\n",
    "        \n",
    "len(company)    "
   ]
  },
  {
   "cell_type": "code",
   "execution_count": 224,
   "id": "7cd91eae",
   "metadata": {},
   "outputs": [
    {
     "data": {
      "text/plain": [
       "10"
      ]
     },
     "execution_count": 224,
     "metadata": {},
     "output_type": "execute_result"
    }
   ],
   "source": [
    "ratings=[]\n",
    "tag2=driver.find_elements_by_xpath('//span[@class=\"body-small\"]')\n",
    "for i in tag2:\n",
    "    if (o2<10):\n",
    "        ratings.append(i.text)\n",
    "        o2+=1\n",
    "    else:\n",
    "         break\n",
    "len(ratings)"
   ]
  },
  {
   "cell_type": "code",
   "execution_count": 172,
   "id": "f869ffe0",
   "metadata": {},
   "outputs": [
    {
     "name": "stdout",
     "output_type": "stream",
     "text": [
      "=\n"
     ]
    }
   ],
   "source": [
    "a = 330\n",
    "b = 330\n",
    "print(\"A\") if a > b else print(\"=\") if a == b else print(\"B\")\n"
   ]
  },
  {
   "cell_type": "code",
   "execution_count": 230,
   "id": "09ee5d57",
   "metadata": {},
   "outputs": [
    {
     "data": {
      "text/plain": [
       "10"
      ]
     },
     "execution_count": 230,
     "metadata": {},
     "output_type": "execute_result"
    }
   ],
   "source": [
    "post_day = []\n",
    "day = driver.find_elements_by_xpath('//span[@class=\"body-small-l\"]')\n",
    "for i in day:\n",
    "    post_day.append(i.text)\n",
    "post_day = post_day[::2]\n",
    "len(post_day)"
   ]
  },
  {
   "cell_type": "code",
   "execution_count": 231,
   "id": "52392192",
   "metadata": {
    "scrolled": true
   },
   "outputs": [
    {
     "data": {
      "text/html": [
       "<div>\n",
       "<style scoped>\n",
       "    .dataframe tbody tr th:only-of-type {\n",
       "        vertical-align: middle;\n",
       "    }\n",
       "\n",
       "    .dataframe tbody tr th {\n",
       "        vertical-align: top;\n",
       "    }\n",
       "\n",
       "    .dataframe thead th {\n",
       "        text-align: right;\n",
       "    }\n",
       "</style>\n",
       "<table border=\"1\" class=\"dataframe\">\n",
       "  <thead>\n",
       "    <tr style=\"text-align: right;\">\n",
       "      <th></th>\n",
       "      <th>COMPANY_NAME</th>\n",
       "      <th>RATINGS</th>\n",
       "      <th>POSTED_D_AGO</th>\n",
       "    </tr>\n",
       "  </thead>\n",
       "  <tbody>\n",
       "    <tr>\n",
       "      <th>0</th>\n",
       "      <td>HCL Technologies</td>\n",
       "      <td>3.8</td>\n",
       "      <td>3d ago</td>\n",
       "    </tr>\n",
       "    <tr>\n",
       "      <th>1</th>\n",
       "      <td>Jubilant Foodworks Limited</td>\n",
       "      <td>3.9</td>\n",
       "      <td>21d ago</td>\n",
       "    </tr>\n",
       "    <tr>\n",
       "      <th>2</th>\n",
       "      <td>EY GDS</td>\n",
       "      <td>3.7</td>\n",
       "      <td>1mon ago</td>\n",
       "    </tr>\n",
       "    <tr>\n",
       "      <th>3</th>\n",
       "      <td>Tavant Technologies India Pvt. Ltd.</td>\n",
       "      <td>4.0</td>\n",
       "      <td>15d ago</td>\n",
       "    </tr>\n",
       "    <tr>\n",
       "      <th>4</th>\n",
       "      <td>Denave India Pvt Ltd.</td>\n",
       "      <td>4.0</td>\n",
       "      <td>15d ago</td>\n",
       "    </tr>\n",
       "    <tr>\n",
       "      <th>5</th>\n",
       "      <td>EXL Service</td>\n",
       "      <td>3.8</td>\n",
       "      <td>28d ago</td>\n",
       "    </tr>\n",
       "    <tr>\n",
       "      <th>6</th>\n",
       "      <td>CHT Sapiense</td>\n",
       "      <td>3.8</td>\n",
       "      <td>9d ago</td>\n",
       "    </tr>\n",
       "    <tr>\n",
       "      <th>7</th>\n",
       "      <td>Pitney Bowes India Pvt ltd</td>\n",
       "      <td>4.2</td>\n",
       "      <td>1mon ago</td>\n",
       "    </tr>\n",
       "    <tr>\n",
       "      <th>8</th>\n",
       "      <td>Zyoin</td>\n",
       "      <td>4.1</td>\n",
       "      <td>13d ago</td>\n",
       "    </tr>\n",
       "    <tr>\n",
       "      <th>9</th>\n",
       "      <td>Ameriprise Financial</td>\n",
       "      <td>4.0</td>\n",
       "      <td>1mon ago</td>\n",
       "    </tr>\n",
       "  </tbody>\n",
       "</table>\n",
       "</div>"
      ],
      "text/plain": [
       "                          COMPANY_NAME RATINGS POSTED_D_AGO\n",
       "0                     HCL Technologies     3.8       3d ago\n",
       "1           Jubilant Foodworks Limited     3.9      21d ago\n",
       "2                               EY GDS     3.7     1mon ago\n",
       "3  Tavant Technologies India Pvt. Ltd.     4.0      15d ago\n",
       "4                Denave India Pvt Ltd.     4.0      15d ago\n",
       "5                          EXL Service     3.8      28d ago\n",
       "6                         CHT Sapiense     3.8       9d ago\n",
       "7           Pitney Bowes India Pvt ltd     4.2     1mon ago\n",
       "8                                Zyoin     4.1      13d ago\n",
       "9                 Ameriprise Financial     4.0     1mon ago"
      ]
     },
     "execution_count": 231,
     "metadata": {},
     "output_type": "execute_result"
    }
   ],
   "source": [
    "data=pd.DataFrame({'COMPANY_NAME':company,'RATINGS':ratings,'POSTED_D_AGO':post_day})\n",
    "data"
   ]
  },
  {
   "cell_type": "markdown",
   "id": "eacc115f",
   "metadata": {},
   "source": [
    "Q10: Write a python program to scrape the salary data for Data Scientist designation. You have to scrape Company name, Number of salaries, Average salary, Minsalary, Max Salary. The above task will be, done as shown in the below steps:\n",
    "1. First get the webpage https://www.ambitionbox.com/\n",
    "2. Click on the salaries option\n",
    "3. After reaching to the following webpage, In place of “Search Job Profile” enters “Data Scientist” and then click on “Data Scientist”\n",
    "4. Scrape the data for the first 10 companies. Scrape the company name, total salary record, average salary, minimum salary, maximum salary, experience required.\n",
    "5. Store the data in a dataframe."
   ]
  },
  {
   "cell_type": "code",
   "execution_count": 369,
   "id": "c6242f54",
   "metadata": {},
   "outputs": [],
   "source": [
    "driver=webdriver.Chrome(r'C:\\Users\\Soumyajit\\Desktop\\chromedriver.exe') #loading web driver"
   ]
  },
  {
   "cell_type": "code",
   "execution_count": 371,
   "id": "b0903ac6",
   "metadata": {},
   "outputs": [],
   "source": [
    "url=' https://www.ambitionbox.com/'\n",
    "driver.get(url)"
   ]
  },
  {
   "cell_type": "code",
   "execution_count": 372,
   "id": "b54bfbbf",
   "metadata": {},
   "outputs": [],
   "source": [
    "salary_btn=driver.find_element_by_xpath('/html/body/div[1]/nav/nav/a[4]')\n",
    "salary_btn.click()"
   ]
  },
  {
   "cell_type": "code",
   "execution_count": 373,
   "id": "090006d0",
   "metadata": {},
   "outputs": [],
   "source": [
    "search_job = driver.find_element_by_id(\"jobProfileSearchbox\")\n",
    "search_job.send_keys(\"Data Scientist\")"
   ]
  },
  {
   "cell_type": "code",
   "execution_count": 374,
   "id": "0292906a",
   "metadata": {},
   "outputs": [],
   "source": [
    "# clicking on “Data Scientist”\n",
    "drp_clk=driver.find_elements_by_xpath(\"//div[@class='suggestion_wrap tt-suggestion tt-selectable']\")\n",
    "for i in drp_clk:\n",
    "    if i.text == 'Data Scientist':   \n",
    "        i.click() \n",
    "        break "
   ]
  },
  {
   "cell_type": "code",
   "execution_count": 411,
   "id": "93bdf0a0",
   "metadata": {},
   "outputs": [],
   "source": [
    "#scrape Company name, Number of salaries, Average salary, Min salary, Max Salary, experience required.\n",
    "\n",
    "company_name = []\n",
    "salary_record = []\n",
    "average_salary = []\n",
    "min_salary = []\n",
    "max_salary = []\n",
    "exp = []\n",
    "\n",
    "tag1=driver.find_elements_by_xpath('//div[@class=\"company-info\"]')\n",
    "for  i in tag1:\n",
    "    company_name.append(i.text.split('\\n')[0])\n",
    "    salary_record.append(i.text.replace('based on',' ').replace('salaries',' ').split('\\n')[1:2])\n",
    "    exp.append(i.text.replace('yrs exp',' ').split('\\n')[-1])\n",
    "tag2=driver.find_elements_by_xpath('//p[@class=\"averageCtc\"]')\n",
    "for i in tag2:\n",
    "    average_salary.append(i.text.replace('₹',' ').replace('L',' '))\n",
    "tag3=driver.find_elements_by_xpath('//div[@class=\"salary-values\"]')\n",
    "for i in tag3:\n",
    "    max_salary.append(i.text.replace('₹','').replace('L',' ').split('\\n')[1])\n",
    "    min_salary.append(i.text.replace('₹','').replace('L',' ').split('\\n')[0])"
   ]
  },
  {
   "cell_type": "code",
   "execution_count": 414,
   "id": "c5d9fd1e",
   "metadata": {},
   "outputs": [
    {
     "data": {
      "text/html": [
       "<div>\n",
       "<style scoped>\n",
       "    .dataframe tbody tr th:only-of-type {\n",
       "        vertical-align: middle;\n",
       "    }\n",
       "\n",
       "    .dataframe tbody tr th {\n",
       "        vertical-align: top;\n",
       "    }\n",
       "\n",
       "    .dataframe thead th {\n",
       "        text-align: right;\n",
       "    }\n",
       "</style>\n",
       "<table border=\"1\" class=\"dataframe\">\n",
       "  <thead>\n",
       "    <tr style=\"text-align: right;\">\n",
       "      <th></th>\n",
       "      <th>COMPANY_NAME</th>\n",
       "      <th>SALARY RECORD</th>\n",
       "      <th>AVERAGE SALARY</th>\n",
       "      <th>MIN_SALARY</th>\n",
       "      <th>MAX_SALARY</th>\n",
       "      <th>EXP</th>\n",
       "    </tr>\n",
       "  </thead>\n",
       "  <tbody>\n",
       "    <tr>\n",
       "      <th>0</th>\n",
       "      <td>Walmart</td>\n",
       "      <td>[  10  ]</td>\n",
       "      <td>28.7</td>\n",
       "      <td>17.7</td>\n",
       "      <td>35.0</td>\n",
       "      <td>3</td>\n",
       "    </tr>\n",
       "    <tr>\n",
       "      <th>1</th>\n",
       "      <td>Ab Inbev</td>\n",
       "      <td>[  26  ]</td>\n",
       "      <td>20.2</td>\n",
       "      <td>15.0</td>\n",
       "      <td>25.5</td>\n",
       "      <td>3-4</td>\n",
       "    </tr>\n",
       "    <tr>\n",
       "      <th>2</th>\n",
       "      <td>ZS</td>\n",
       "      <td>[  15  ]</td>\n",
       "      <td>15.3</td>\n",
       "      <td>9.5</td>\n",
       "      <td>20.0</td>\n",
       "      <td>2</td>\n",
       "    </tr>\n",
       "    <tr>\n",
       "      <th>3</th>\n",
       "      <td>Optum</td>\n",
       "      <td>[  25  ]</td>\n",
       "      <td>15.1</td>\n",
       "      <td>11.0</td>\n",
       "      <td>21.3</td>\n",
       "      <td>3-4</td>\n",
       "    </tr>\n",
       "    <tr>\n",
       "      <th>4</th>\n",
       "      <td>Fractal Analytics</td>\n",
       "      <td>[  75  ]</td>\n",
       "      <td>15.1</td>\n",
       "      <td>9.5</td>\n",
       "      <td>22.0</td>\n",
       "      <td>2-4</td>\n",
       "    </tr>\n",
       "    <tr>\n",
       "      <th>5</th>\n",
       "      <td>Tiger Analytics</td>\n",
       "      <td>[  32  ]</td>\n",
       "      <td>14.2</td>\n",
       "      <td>8.3</td>\n",
       "      <td>18.5</td>\n",
       "      <td>3-4</td>\n",
       "    </tr>\n",
       "    <tr>\n",
       "      <th>6</th>\n",
       "      <td>UnitedHealth</td>\n",
       "      <td>[  51  ]</td>\n",
       "      <td>13.8</td>\n",
       "      <td>8.3</td>\n",
       "      <td>20.5</td>\n",
       "      <td>2-4</td>\n",
       "    </tr>\n",
       "    <tr>\n",
       "      <th>7</th>\n",
       "      <td>Verizon</td>\n",
       "      <td>[  14  ]</td>\n",
       "      <td>12.7</td>\n",
       "      <td>10.0</td>\n",
       "      <td>21.0</td>\n",
       "      <td>4</td>\n",
       "    </tr>\n",
       "    <tr>\n",
       "      <th>8</th>\n",
       "      <td>Ganit Business Solutions</td>\n",
       "      <td>[  13  ]</td>\n",
       "      <td>12.4</td>\n",
       "      <td>8.5</td>\n",
       "      <td>15.0</td>\n",
       "      <td>4</td>\n",
       "    </tr>\n",
       "    <tr>\n",
       "      <th>9</th>\n",
       "      <td>Ericsson</td>\n",
       "      <td>[  43  ]</td>\n",
       "      <td>11.9</td>\n",
       "      <td>5.8</td>\n",
       "      <td>24.0</td>\n",
       "      <td>3-4</td>\n",
       "    </tr>\n",
       "  </tbody>\n",
       "</table>\n",
       "</div>"
      ],
      "text/plain": [
       "               COMPANY_NAME SALARY RECORD AVERAGE SALARY MIN_SALARY  \\\n",
       "0                   Walmart      [  10  ]          28.7       17.7    \n",
       "1                  Ab Inbev      [  26  ]          20.2       15.0    \n",
       "2                        ZS      [  15  ]          15.3        9.5    \n",
       "3                     Optum      [  25  ]          15.1       11.0    \n",
       "4         Fractal Analytics      [  75  ]          15.1        9.5    \n",
       "5           Tiger Analytics      [  32  ]          14.2        8.3    \n",
       "6              UnitedHealth      [  51  ]          13.8        8.3    \n",
       "7                   Verizon      [  14  ]          12.7       10.0    \n",
       "8  Ganit Business Solutions      [  13  ]          12.4        8.5    \n",
       "9                  Ericsson      [  43  ]          11.9        5.8    \n",
       "\n",
       "  MAX_SALARY    EXP  \n",
       "0      35.0     3    \n",
       "1      25.5   3-4    \n",
       "2      20.0     2    \n",
       "3      21.3   3-4    \n",
       "4      22.0   2-4    \n",
       "5      18.5   3-4    \n",
       "6      20.5   2-4    \n",
       "7      21.0     4    \n",
       "8      15.0     4    \n",
       "9      24.0   3-4    "
      ]
     },
     "execution_count": 414,
     "metadata": {},
     "output_type": "execute_result"
    }
   ],
   "source": [
    "data=pd.DataFrame({'COMPANY_NAME':company_name ,'SALARY RECORD':salary_record ,'AVERAGE SALARY':average_salary ,'MIN_SALARY':min_salary ,'MAX_SALARY':max_salary ,'EXP':exp})\n",
    "data"
   ]
  },
  {
   "cell_type": "code",
   "execution_count": null,
   "id": "e7f5981c",
   "metadata": {},
   "outputs": [],
   "source": []
  },
  {
   "cell_type": "code",
   "execution_count": null,
   "id": "a6f99748",
   "metadata": {},
   "outputs": [],
   "source": []
  },
  {
   "cell_type": "code",
   "execution_count": null,
   "id": "5b5dd3d9",
   "metadata": {},
   "outputs": [],
   "source": []
  }
 ],
 "metadata": {
  "kernelspec": {
   "display_name": "Python 3",
   "language": "python",
   "name": "python3"
  },
  "language_info": {
   "codemirror_mode": {
    "name": "ipython",
    "version": 3
   },
   "file_extension": ".py",
   "mimetype": "text/x-python",
   "name": "python",
   "nbconvert_exporter": "python",
   "pygments_lexer": "ipython3",
   "version": "3.8.8"
  }
 },
 "nbformat": 4,
 "nbformat_minor": 5
}
